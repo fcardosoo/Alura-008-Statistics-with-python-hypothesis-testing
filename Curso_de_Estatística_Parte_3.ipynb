{
 "cells": [
  {
   "cell_type": "markdown",
   "metadata": {
    "colab_type": "text",
    "id": "WvMflodMjQKe"
   },
   "source": [
    "# <font color=green size=10>CURSO DE ESTATÍSTICA - PARTE 3</font>\n",
    "\n",
    "***"
   ]
  },
  {
   "cell_type": "markdown",
   "metadata": {
    "colab_type": "text",
    "id": "cVgsZ_E3jQKg"
   },
   "source": [
    "# <font color=green>1 CONHECENDO OS DADOS</font>\n",
    "***"
   ]
  },
  {
   "cell_type": "markdown",
   "metadata": {
    "colab_type": "text",
    "id": "TDjqYYNojQKh"
   },
   "source": [
    "## <font color=green>1.1 Dataset do projeto</font>\n",
    "***"
   ]
  },
  {
   "cell_type": "markdown",
   "metadata": {
    "colab_type": "text",
    "id": "iN1gIbaKjQKh"
   },
   "source": [
    "### Pesquisa Nacional por Amostra de Domicílios - 2015\n",
    "\n",
    "A <b>Pesquisa Nacional por Amostra de Domicílios - PNAD</b> investiga anualmente, de forma permanente, características gerais da população, de educação, trabalho, rendimento e habitação e outras, com periodicidade variável, de acordo com as necessidades de informação para o país, como as características sobre migração, fecundidade, nupcialidade, saúde, segurança alimentar, entre outros temas. O levantamento dessas estatísticas constitui, ao longo dos 49 anos de realização da pesquisa, um importante instrumento para formulação, validação e avaliação de políticas orientadas para o desenvolvimento socioeconômico e a melhoria das condições de vida no Brasil."
   ]
  },
  {
   "cell_type": "markdown",
   "metadata": {
    "colab_type": "text",
    "id": "U6V7br1RjQKi"
   },
   "source": [
    "### Fonte dos Dados\n",
    "\n",
    "https://ww2.ibge.gov.br/home/estatistica/populacao/trabalhoerendimento/pnad2015/microdados.shtm"
   ]
  },
  {
   "cell_type": "markdown",
   "metadata": {
    "colab_type": "text",
    "id": "r0Fe_qnzjQKj"
   },
   "source": [
    "### Variáveis utilizadas\n",
    "\n",
    "> ### Renda\n",
    "> ***\n",
    "\n",
    "Rendimento mensal do trabalho principal para pessoas de 10 anos ou mais de idade.\n",
    "\n",
    "> ### Idade\n",
    "> ***\n",
    "\n",
    "Idade do morador na data de referência em anos.\n",
    "\n",
    "> ### Altura (elaboração própria)\n",
    "> ***\n",
    "\n",
    "Altura do morador em metros.\n",
    "\n",
    "> ### UF\n",
    "> ***\n",
    "\n",
    "|Código|Descrição|\n",
    "|---|---|\n",
    "|11|Rondônia|\n",
    "|12|Acre|\n",
    "|13|Amazonas|\n",
    "|14|Roraima|\n",
    "|15|Pará|\n",
    "|16|Amapá|\n",
    "|17|Tocantins|\n",
    "|21|Maranhão|\n",
    "|22|Piauí|\n",
    "|23|Ceará|\n",
    "|24|Rio Grande do Norte|\n",
    "|25|Paraíba|\n",
    "|26|Pernambuco|\n",
    "|27|Alagoas|\n",
    "|28|Sergipe|\n",
    "|29|Bahia|\n",
    "|31|Minas Gerais|\n",
    "|32|Espírito Santo|\n",
    "|33|Rio de Janeiro|\n",
    "|35|São Paulo|\n",
    "|41|Paraná|\n",
    "|42|Santa Catarina|\n",
    "|43|Rio Grande do Sul|\n",
    "|50|Mato Grosso do Sul|\n",
    "|51|Mato Grosso|\n",
    "|52|Goiás|\n",
    "|53|Distrito Federal|\n",
    "\n",
    "> ### Sexo\t\n",
    "> ***\n",
    "\n",
    "|Código|Descrição|\n",
    "|---|---|\n",
    "|0|Masculino|\n",
    "|1|Feminino|\n",
    "\n",
    "> ### Anos de Estudo\n",
    "> ***\n",
    "\n",
    "|Código|Descrição|\n",
    "|---|---|\n",
    "|1|Sem instrução e menos de 1 ano|\n",
    "|2|1 ano|\n",
    "|3|2 anos|\n",
    "|4|3 anos|\n",
    "|5|4 anos|\n",
    "|6|5 anos|\n",
    "|7|6 anos|\n",
    "|8|7 anos|\n",
    "|9|8 anos|\n",
    "|10|9 anos|\n",
    "|11|10 anos|\n",
    "|12|11 anos|\n",
    "|13|12 anos|\n",
    "|14|13 anos|\n",
    "|15|14 anos|\n",
    "|16|15 anos ou mais|\n",
    "|17|Não determinados| \n",
    "||Não aplicável|\n",
    "\n",
    "> ### Cor\n",
    "> ***\n",
    "\n",
    "|Código|Descrição|\n",
    "|---|---|\n",
    "|0|Indígena|\n",
    "|2|Branca|\n",
    "|4|Preta|\n",
    "|6|Amarela|\n",
    "|8|Parda|\n",
    "|9|Sem declaração|"
   ]
  },
  {
   "cell_type": "markdown",
   "metadata": {
    "colab_type": "text",
    "id": "OK1IQH5cX7Gb"
   },
   "source": [
    "#### <font color='red'>Observação</font>\n",
    "***\n",
    "> Os seguintes tratamentos foram realizados nos dados originais:\n",
    "> 1. Foram eliminados os registros onde a <b>Renda</b> era inválida (999 999 999 999);\n",
    "> 2. Foram eliminados os registros onde a <b>Renda</b> era missing;\n",
    "> 3. Foram considerados somente os registros das <b>Pessoas de Referência</b> de cada domicílio (responsável pelo domicílio)."
   ]
  },
  {
   "cell_type": "markdown",
   "metadata": {
    "colab_type": "text",
    "id": "8Rw70V6ojQKk"
   },
   "source": [
    "### Importando pandas e lendo o dataset do projeto\n",
    "\n",
    "https://pandas.pydata.org/"
   ]
  },
  {
   "cell_type": "code",
   "execution_count": null,
   "metadata": {
    "colab": {},
    "colab_type": "code",
    "id": "8QgOpE-wjQKl"
   },
   "outputs": [],
   "source": [
    "import pandas as pd\n",
    "import numpy as np"
   ]
  },
  {
   "cell_type": "code",
   "execution_count": null,
   "metadata": {
    "colab": {},
    "colab_type": "code",
    "id": "ufRZ7TLwjQKo"
   },
   "outputs": [],
   "source": [
    "dados = pd.read_csv('dados.csv')"
   ]
  },
  {
   "cell_type": "code",
   "execution_count": null,
   "metadata": {
    "colab": {
     "base_uri": "https://localhost:8080/",
     "height": 204
    },
    "colab_type": "code",
    "id": "GsC_WhLFjQKq",
    "outputId": "cccf4d9c-10ec-4c5b-df3f-173c62ca0659",
    "scrolled": true
   },
   "outputs": [],
   "source": [
    "dados.head()"
   ]
  },
  {
   "cell_type": "markdown",
   "metadata": {
    "colab_type": "text",
    "id": "nk65O0lepz57"
   },
   "source": [
    "# <font color=green>2 TESTES DE HIPÓTESES</font>\n",
    "***"
   ]
  },
  {
   "cell_type": "markdown",
   "metadata": {
    "colab_type": "text",
    "id": "OjHpQHFHpsi3"
   },
   "source": [
    "Testes estatísticos são regras de decisão que permitem avaliar a razoabilidade das hipóteses feitas sobre os parâmetros populacionais e aceitá-las ou rejeitá-las como provavelmente verdadeiras ou falsas tendo como base uma amostra."
   ]
  },
  {
   "cell_type": "markdown",
   "metadata": {
    "colab_type": "text",
    "id": "qjqWccNspsi4"
   },
   "source": [
    "## <font color=green>2.1 Teste de normalidade</font>\n",
    "***"
   ]
  },
  {
   "cell_type": "markdown",
   "metadata": {
    "colab_type": "text",
    "id": "O79kHHwYpsi5"
   },
   "source": [
    "### Importando bibliotecas\n",
    "https://docs.scipy.org/doc/scipy/reference/generated/scipy.stats.normaltest.html"
   ]
  },
  {
   "cell_type": "code",
   "execution_count": null,
   "metadata": {
    "colab": {},
    "colab_type": "code",
    "id": "3LwfaqpFpsi5"
   },
   "outputs": [],
   "source": [
    "from scipy.stats import normaltest"
   ]
  },
  {
   "cell_type": "markdown",
   "metadata": {
    "colab_type": "text",
    "id": "abDn-nKLpsi7"
   },
   "source": [
    "A função *normaltest* testa a hipótese nula $H_0$ de que a amostra é proveniente de uma distribuição normal."
   ]
  },
  {
   "cell_type": "markdown",
   "metadata": {
    "colab_type": "text",
    "id": "gRDJ86zTpsi8"
   },
   "source": [
    "### Definindo a significância do teste ($\\alpha$)"
   ]
  },
  {
   "cell_type": "code",
   "execution_count": null,
   "metadata": {
    "colab": {},
    "colab_type": "code",
    "id": "3s6ZAdCOpsi9"
   },
   "outputs": [],
   "source": [
    "significancia = 0.05"
   ]
  },
  {
   "cell_type": "markdown",
   "metadata": {
    "colab_type": "text",
    "id": "sppYIE51psi_"
   },
   "source": [
    "### Testando a variável Renda"
   ]
  },
  {
   "cell_type": "code",
   "execution_count": null,
   "metadata": {
    "colab": {
     "base_uri": "https://localhost:8080/",
     "height": 287
    },
    "colab_type": "code",
    "id": "IZpa91lHpsi_",
    "outputId": "ba8bdb04-9da3-41dd-8726-c76cd9670aa0"
   },
   "outputs": [],
   "source": [
    "dados.Renda.hist(bins=50)"
   ]
  },
  {
   "cell_type": "markdown",
   "metadata": {
    "colab_type": "text",
    "id": "qKeNZ0PUpsjC"
   },
   "source": [
    "### <font color='red'>Critério do valor $p$</font>\n",
    "\n",
    "> ### Rejeitar $H_0$ se o valor $p\\leq 0,05$"
   ]
  },
  {
   "cell_type": "code",
   "execution_count": null,
   "metadata": {
    "colab": {
     "base_uri": "https://localhost:8080/",
     "height": 53
    },
    "colab_type": "code",
    "id": "060ahVrrpsjD",
    "outputId": "a28af676-4866-4004-953c-8274fc91b9b4"
   },
   "outputs": [],
   "source": [
    "stat_test, p_valor = normaltest(dados.Renda)\n",
    "print(stat_test)\n",
    "print(p_valor)"
   ]
  },
  {
   "cell_type": "code",
   "execution_count": null,
   "metadata": {
    "colab": {
     "base_uri": "https://localhost:8080/",
     "height": 35
    },
    "colab_type": "code",
    "id": "Q4eJFGsCpsjG",
    "outputId": "95f4e550-b43e-476c-94e6-12b600384bc5"
   },
   "outputs": [],
   "source": [
    "p_valor <= significancia"
   ]
  },
  {
   "cell_type": "markdown",
   "metadata": {},
   "source": [
    "$H_0$: A amostra é proveniente de uma distribuição normal.\n",
    "$H_1$: A amostra *NÃO* é proveniente de uma distribuição normal.\n",
    "\n",
    "Como o `p_value` é Menor do que 0,05 `Rejeita-se` H0 (que a amostra pertence a uma distribuição normal) e aceita-se a hipótese alternativa (que a amostra *não* pertence a uma distribuição normal)"
   ]
  },
  {
   "cell_type": "markdown",
   "metadata": {
    "colab_type": "text",
    "id": "JkAxa9PqpsjM"
   },
   "source": [
    "### Testando a variável Altura"
   ]
  },
  {
   "cell_type": "code",
   "execution_count": null,
   "metadata": {
    "colab": {
     "base_uri": "https://localhost:8080/",
     "height": 287
    },
    "colab_type": "code",
    "id": "n9r88dMKpsjN",
    "outputId": "9147988e-9272-4aac-de34-211894eeb81c"
   },
   "outputs": [],
   "source": [
    "dados.Altura.hist(bins=50)"
   ]
  },
  {
   "cell_type": "markdown",
   "metadata": {
    "colab_type": "text",
    "id": "1ADrwGb5psjQ"
   },
   "source": [
    "### <font color='red'>Critério do valor $p$</font>\n",
    "\n",
    "> ### Rejeitar $H_0$ se o valor $p\\leq 0,05$"
   ]
  },
  {
   "cell_type": "code",
   "execution_count": null,
   "metadata": {
    "colab": {
     "base_uri": "https://localhost:8080/",
     "height": 53
    },
    "colab_type": "code",
    "id": "aV9fx6w5psjb",
    "outputId": "030f350d-442f-4d8a-c900-52cca0af4346"
   },
   "outputs": [],
   "source": [
    "stat_test, p_valor = normaltest(dados.Altura)\n",
    "print(stat_test)\n",
    "print(p_valor)"
   ]
  },
  {
   "cell_type": "code",
   "execution_count": null,
   "metadata": {
    "colab": {
     "base_uri": "https://localhost:8080/",
     "height": 35
    },
    "colab_type": "code",
    "id": "pP-NZCthpsje",
    "outputId": "de39a608-7d0a-49e9-f6da-2b9f1665a58f"
   },
   "outputs": [],
   "source": [
    "p_valor <= significancia"
   ]
  },
  {
   "cell_type": "markdown",
   "metadata": {},
   "source": [
    "$H_0$: A amostra é proveniente de uma distribuição normal.\n",
    "$H_1$: A amostra *NÃO* é proveniente de uma distribuição normal.\n",
    "\n",
    "Como o `p_value` é Maior do que 0,05 `Aceita-se` H0 (que a amostra pertence a uma distribuição normal) e rejeita-se a hipótese alternativa (que a amostra *não* pertence a uma distribuição normal)"
   ]
  },
  {
   "cell_type": "markdown",
   "metadata": {
    "colab_type": "text",
    "id": "rWh-HSd-psji"
   },
   "source": [
    "## <font color=green>2.2 Etapas Básicas de um Teste</font>\n",
    "***"
   ]
  },
  {
   "cell_type": "markdown",
   "metadata": {
    "colab_type": "text",
    "id": "DQF30K2Cpsjj"
   },
   "source": [
    "### **Passo 1** - formulação das hipóteses $H_0$ e $H_1$;\n",
    "\n",
    "> ### <font color='red'>Pontos importantes</font>\n",
    "> - De maneira geral, o alvo do estudo deve ser formulado como a hipótese alternativa $H_1$.\n",
    "> - A hipótese nula sempre afirma uma igualdade ou propriedade populacional, e $H_1$ a desigualdade que nega $H_0$.\n",
    "> - No caso da hipótese nula $H_0$ a igualdade pode ser representada por uma igualdade simples \"$=$\" ou por \"$\\geq$\" e \"$\\leq$\". Sempre complementar ao estabelecido pela hipótese alternativa.\n",
    "> - A hipótese alternativa $H_1$ deve definir uma desigualdade que pode ser uma diferença simples \"$\\neq$\" ou dos tipos \"$>$\" e \"$<$\".\n",
    "\n",
    "\n",
    "### **Passo 2** - escolha da distribuição amostral adequada;\n",
    "\n",
    "> ### <font color='red'>Pontos importantes</font>\n",
    "> - Quando o tamanho da amostra tiver 30 elementos ou mais, deve-se utilizar a distribuição normal, como estabelecido pelo **teorema do limite central**.\n",
    "> - Para um tamanho de amostra menor que 30 elementos, e se pudermos afirmar que a população se distribui aproximadamente como uma normal e o desvio padrão populacional for conhecido, deve-se utilizar a distribuição normal.\n",
    "> - Para um tamanho de amostra menor que 30 elementos, e se pudermos afirmar que a população se distribui aproximadamente como uma normal e o desvio padrão populacional for desconhecido, deve-se utilizar a distribuição t de Student.\n",
    "\n",
    "<img src='https://caelum-online-public.s3.amazonaws.com/1229-estatistica-parte3/01/img003.png' width=70%>\n",
    "\n",
    "### **Passo 3** - fixação da significância do teste ($\\alpha$), que define as regiões de aceitação e rejeição das hipóteses (os valores mais freqüentes são 10%, 5% e 1%);\n",
    "\n",
    "> ### <font color='red'>Pontos importantes</font>\n",
    "> - O **nível de confiança** ($1 - \\alpha$) representa a probabilidade de acerto da estimativa. De forma complementar o **nível de significância** ($\\alpha$) expressa a probabilidade de erro da estimativa.\n",
    ">\n",
    "> ![Níveis de Confiança e significância](https://caelum-online-public.s3.amazonaws.com/1229-estatistica-parte3/01/img001.png)\n",
    ">\n",
    "> - O **nível de confiança** representa o grau de confiabilidade do resultado da estimativa estar dentro de determinado intervalo. Quando fixamos em uma pesquisa um **nível de confiança** de 95%, por exemplo, estamos assumindo que existe uma probabilidade de 95% dos resultados da pesquisa representarem bem a realidade, ou seja, estarem corretos.\n",
    ">\n",
    "> ![Áreas de Aceitação e Rejeição](https://caelum-online-public.s3.amazonaws.com/1229-estatistica-parte3/01/img002.png)\n",
    "\n",
    "### **Passo 4** - cálculo da estatística-teste e verificação desse valor com as áreas de aceitação e rejeição do teste;\n",
    "\n",
    "> ### <font color='red'>Pontos importantes</font>\n",
    "> - Nos testes paramétricos, distância relativa entre a estatística amostral e o valor alegado como provável.\n",
    "> - Neste passo são obtidas as estatísticas amostrais necessárias à execução do teste (média, desvio-padrão, graus de liberdade etc.)\n",
    "\n",
    "\n",
    "### **Passo 5** - Aceitação ou rejeição da hipótese nula.\n",
    "\n",
    "> ### <font color='red'>Pontos importantes</font>\n",
    "> - No caso de o intervalo de aceitação conter a estatística-teste, aceita-se $H_0$ como estatisticamente válido e rejeita-se $H_1$ como tal.\n",
    "> - No caso de o intervalo de aceitação não conter a estatística-teste, rejeita-se $H_0$ e aceita-se $H_1$ como provavelmente verdadeira. \n",
    "> - A aceitação também se verifica com a probabilidade de cauda (p-valor): se maior que $\\alpha$, aceita-se $H_0$."
   ]
  },
  {
   "cell_type": "markdown",
   "metadata": {
    "colab_type": "text",
    "id": "TXdMM0dOpsjm"
   },
   "source": [
    "---"
   ]
  },
  {
   "cell_type": "markdown",
   "metadata": {
    "colab_type": "text",
    "id": "miGOADKYpsjn"
   },
   "source": [
    "# <font color=green>3 TESTES PARAMÉTRICOS</font>\n",
    "***"
   ]
  },
  {
   "cell_type": "markdown",
   "metadata": {
    "colab_type": "text",
    "id": "pIHY_4Sspsjn"
   },
   "source": [
    "Quando um teste assume determinadas premissas sobre como os parâmetros de uma população se distribuem, estamos trabalhando com **Testes Paramétricos**."
   ]
  },
  {
   "cell_type": "markdown",
   "metadata": {
    "colab_type": "text",
    "id": "rUKgxZ7_psjp"
   },
   "source": [
    "## <font color=green>3.1 Teste Bicaudal</font>\n",
    "***"
   ]
  },
  {
   "cell_type": "markdown",
   "metadata": {
    "colab_type": "text",
    "id": "i1PMIB5cpsjp"
   },
   "source": [
    "## <font color='red'>Problema</font>"
   ]
  },
  {
   "cell_type": "markdown",
   "metadata": {
    "colab_type": "text",
    "id": "vellTWzJpsjq"
   },
   "source": [
    "A empresa **Suco Bom** produz **sucos de frutas em embalagens de 500 ml**. Seu processo de produção é quase todo automatizado e as embalagens de sucos são preenchidas por uma máquina que às vezes apresenta um certo desajuste, levando a erros no preenchimento das embalagens para mais ou menos conteúdo. Quando o volume médio cai abaixo de 500 ml, a empresa se preocupa em perder vendas e ter problemas com os orgãos fiscalizadores. Quando o volume passa de 500 ml, a empresa começa a se preocupar com prejuízos no processo de produção.\n",
    "\n",
    "O setor de controle de qualidade da empresa **Suco Bom** extrai, periodicamente, **amostras de 50 embalagens** para monitorar o processo de produção. Para cada amostra, é realizado um **teste de hipóteses** para avaliar se o maquinário se desajustou. A equipe de controle de qualidade assume um **nível de significância de 5%**.\n",
    "\n",
    "Suponha agora que uma **amostra de 50 embalagens** foi selecionada e que a **média amostral observada foi de 503,24 ml**. **Esse valor de média amostral é suficientemente maior que 500 ml para nos fazer rejeitar a hipótese de que a média do processo é de 500 ml ao nível de significância de 5%?**"
   ]
  },
  {
   "cell_type": "markdown",
   "metadata": {
    "colab_type": "text",
    "id": "-J15nugOpsjq"
   },
   "source": [
    "---"
   ]
  },
  {
   "cell_type": "markdown",
   "metadata": {
    "colab_type": "text",
    "id": "076qvKgapsjr"
   },
   "source": [
    "O **teste bicaudal** é muito utilizado em **testes de qualidade**, como o apresentado em nosso problema acima. Outro exemplo é a avaliação de peças que devem ter um encaixe perfeito (porcas e parafusos, chaves e fechaduras)."
   ]
  },
  {
   "cell_type": "markdown",
   "metadata": {
    "colab_type": "text",
    "id": "MyGUYz88psjr"
   },
   "source": [
    "![Teste Bicaudal](https://caelum-online-public.s3.amazonaws.com/1229-estatistica-parte3/01/img005.png)"
   ]
  },
  {
   "cell_type": "markdown",
   "metadata": {
    "colab_type": "text",
    "id": "EOiKt64mpsjs"
   },
   "source": [
    "---"
   ]
  },
  {
   "cell_type": "markdown",
   "metadata": {
    "colab_type": "text",
    "id": "011wNGXtpsjs"
   },
   "source": [
    "### Dados do problema"
   ]
  },
  {
   "cell_type": "code",
   "execution_count": null,
   "metadata": {
    "colab": {},
    "colab_type": "code",
    "id": "lHLlGH7upsjt"
   },
   "outputs": [],
   "source": [
    "amostra = [509, 505, 495, 510, 496, 509, 497, 502, 503, 505, \n",
    "           501, 505, 510, 505, 504, 497, 506, 506, 508, 505, \n",
    "           497, 504, 500, 498, 506, 496, 508, 497, 503, 501, \n",
    "           503, 506, 499, 498, 509, 507, 503, 499, 509, 495, \n",
    "           502, 505, 504, 509, 508, 501, 505, 497, 508, 507]\n"
   ]
  },
  {
   "cell_type": "code",
   "execution_count": null,
   "metadata": {},
   "outputs": [],
   "source": [
    "amostra = pd.DataFrame(amostra, columns=['Amostra'])\n",
    "amostra.head()"
   ]
  },
  {
   "cell_type": "code",
   "execution_count": null,
   "metadata": {},
   "outputs": [],
   "source": [
    "media_amostra = amostra.mean()[0]\n",
    "media_amostra"
   ]
  },
  {
   "cell_type": "code",
   "execution_count": null,
   "metadata": {},
   "outputs": [],
   "source": [
    "desvio_padrao_amostra = amostra.std()[0]\n",
    "desvio_padrao_amostra"
   ]
  },
  {
   "cell_type": "markdown",
   "metadata": {
    "colab": {
     "base_uri": "https://localhost:8080/",
     "height": 204
    },
    "colab_type": "code",
    "id": "AJNH5RQtpsju",
    "outputId": "2e4e74bb-9e93-41ce-b12c-af947c39fda8",
    "scrolled": false
   },
   "source": [
    "amostra = pd.DataFrame(amostra, columns=['Amostra'])\n",
    "amostra.head()"
   ]
  },
  {
   "cell_type": "code",
   "execution_count": null,
   "metadata": {
    "colab": {
     "base_uri": "https://localhost:8080/",
     "height": 35
    },
    "colab_type": "code",
    "id": "tnjD0A_ppsjw",
    "outputId": "96415938-0ad1-463b-ee79-719ef48dca1a"
   },
   "outputs": [],
   "source": [
    "media = 500\n",
    "significancia = 0.05\n",
    "confianca = 1 - significancia\n",
    "n = 50"
   ]
  },
  {
   "cell_type": "markdown",
   "metadata": {
    "colab_type": "text",
    "id": "nqmFpl7wpsj2"
   },
   "source": [
    "### **Passo 1** - formulação das hipóteses $H_0$ e $H_1$\n",
    "\n",
    "#### <font color='red'>Lembre-se, a hipótese nula sempre contém a alegação de igualdade</font>"
   ]
  },
  {
   "cell_type": "markdown",
   "metadata": {
    "colab_type": "text",
    "id": "QVcqkHZhpsj3"
   },
   "source": [
    "### $H_0: \\mu = 500$\n",
    "\n",
    "### $H_1: \\mu \\neq 500$"
   ]
  },
  {
   "cell_type": "markdown",
   "metadata": {
    "colab_type": "text",
    "id": "MShPuVL6psj3"
   },
   "source": [
    "---"
   ]
  },
  {
   "cell_type": "markdown",
   "metadata": {
    "colab_type": "text",
    "id": "_rAz73fzpsj4"
   },
   "source": [
    "### **Passo 2** - escolha da distribuição amostral adequada\n",
    "<img src='https://caelum-online-public.s3.amazonaws.com/1229-estatistica-parte3/01/img003.png' width=70%>"
   ]
  },
  {
   "cell_type": "markdown",
   "metadata": {
    "colab_type": "text",
    "id": "XC1JOtU9psj4"
   },
   "source": [
    "### O tamanho da amostra é maior que 30?\n",
    "#### Resp.: Sim\n",
    "\n",
    "### O desvio padrão populacional é conhecido?\n",
    "#### Resp.: Não"
   ]
  },
  {
   "cell_type": "markdown",
   "metadata": {
    "colab_type": "text",
    "id": "Uq-Zq_Sxpsj5"
   },
   "source": [
    "---"
   ]
  },
  {
   "cell_type": "markdown",
   "metadata": {
    "colab_type": "text",
    "id": "V3OT4caspsj5"
   },
   "source": [
    "### **Passo 3** - fixação da significância do teste ($\\alpha$)"
   ]
  },
  {
   "cell_type": "markdown",
   "metadata": {
    "colab_type": "text",
    "id": "wI1Nhj_vpsj6"
   },
   "source": [
    "https://docs.scipy.org/doc/scipy/reference/generated/scipy.stats.norm.html"
   ]
  },
  {
   "cell_type": "code",
   "execution_count": null,
   "metadata": {
    "colab": {},
    "colab_type": "code",
    "id": "nUd-6AzZpsj6"
   },
   "outputs": [],
   "source": [
    "from scipy.stats import norm"
   ]
  },
  {
   "cell_type": "code",
   "execution_count": null,
   "metadata": {
    "colab": {
     "base_uri": "https://localhost:8080/",
     "height": 35
    },
    "colab_type": "code",
    "id": "2JyYCHeQpsj8",
    "outputId": "593263ce-a450-43d3-bcf1-1d663ef2774f"
   },
   "outputs": [],
   "source": [
    "probabilidade = (0.5 + (confianca / 2))\n",
    "probabilidade"
   ]
  },
  {
   "cell_type": "markdown",
   "metadata": {
    "colab_type": "text",
    "id": "Fu4Wbd-ipsj-"
   },
   "source": [
    "### Obtendo $z_{\\alpha/2}$"
   ]
  },
  {
   "cell_type": "code",
   "execution_count": null,
   "metadata": {
    "colab": {
     "base_uri": "https://localhost:8080/",
     "height": 35
    },
    "colab_type": "code",
    "id": "imc3GyDLpsj_",
    "outputId": "b9dca9d5-da76-42b1-919c-1aaf593fed70"
   },
   "outputs": [],
   "source": [
    "z_alpha_2 = norm.ppf(probabilidade)\n",
    "z_alpha_2"
   ]
  },
  {
   "cell_type": "markdown",
   "metadata": {
    "colab_type": "text",
    "id": "d98Z21yOpskB"
   },
   "source": [
    "![Região de Aceitação](https://caelum-online-public.s3.amazonaws.com/1229-estatistica-parte3/01/img006.png)"
   ]
  },
  {
   "cell_type": "markdown",
   "metadata": {
    "colab_type": "text",
    "id": "eyfX7pYMpskC"
   },
   "source": [
    "---"
   ]
  },
  {
   "cell_type": "markdown",
   "metadata": {
    "colab_type": "text",
    "id": "aaLCZs0ApskC"
   },
   "source": [
    "### **Passo 4** - cálculo da estatística-teste e verificação desse valor com as áreas de aceitação e rejeição do teste\n",
    "\n",
    "# $$z = \\frac{\\bar{x} - \\mu_0}{\\frac{s}{\\sqrt{n}}}$$"
   ]
  },
  {
   "cell_type": "code",
   "execution_count": null,
   "metadata": {
    "colab": {
     "base_uri": "https://localhost:8080/",
     "height": 35
    },
    "colab_type": "code",
    "id": "a6zMj0YzpskC",
    "outputId": "83a2bb40-f67f-4ddc-dbd9-a88032f7dc86"
   },
   "outputs": [],
   "source": [
    "z = (media_amostra - media) / (desvio_padrao_amostra / np.sqrt(n))\n",
    "z"
   ]
  },
  {
   "cell_type": "markdown",
   "metadata": {
    "colab_type": "text",
    "id": "UMHqgrlupskE"
   },
   "source": [
    "![Estatística-Teste](https://caelum-online-public.s3.amazonaws.com/1229-estatistica-parte3/01/img007.png)"
   ]
  },
  {
   "cell_type": "markdown",
   "metadata": {
    "colab_type": "text",
    "id": "tFfJX8G9pskF"
   },
   "source": [
    "---"
   ]
  },
  {
   "cell_type": "markdown",
   "metadata": {
    "colab_type": "text",
    "id": "aqTnTTePpskF"
   },
   "source": [
    "### **Passo 5** - Aceitação ou rejeição da hipótese nula"
   ]
  },
  {
   "cell_type": "markdown",
   "metadata": {
    "colab_type": "text",
    "id": "pD1cc4DHpskG"
   },
   "source": [
    "<img src='https://caelum-online-public.s3.amazonaws.com/1229-estatistica-parte3/01/img013.png' width=90%>"
   ]
  },
  {
   "cell_type": "markdown",
   "metadata": {
    "colab_type": "text",
    "id": "qbnH6V15pskG"
   },
   "source": [
    "### <font color='red'>Critério do valor crítico</font>\n",
    "\n",
    "> ### Teste Bicaudal\n",
    "> ### Rejeitar $H_0$ se $z \\leq -z_{\\alpha / 2}$ ou se $z \\geq z_{\\alpha / 2}$"
   ]
  },
  {
   "cell_type": "code",
   "execution_count": null,
   "metadata": {
    "colab": {
     "base_uri": "https://localhost:8080/",
     "height": 35
    },
    "colab_type": "code",
    "id": "-MkJyqSupskG",
    "outputId": "6495abcc-0c3f-4759-8a31-96d668ad2eff"
   },
   "outputs": [],
   "source": [
    "z <= -z_alpha_2"
   ]
  },
  {
   "cell_type": "code",
   "execution_count": null,
   "metadata": {
    "colab": {
     "base_uri": "https://localhost:8080/",
     "height": 35
    },
    "colab_type": "code",
    "id": "FVTIIXA3pskI",
    "outputId": "8ec15147-9c1d-4fa0-fe26-8de8166f3ed6"
   },
   "outputs": [],
   "source": [
    "z >= z_alpha_2"
   ]
  },
  {
   "cell_type": "markdown",
   "metadata": {
    "colab_type": "text",
    "id": "YX-xSnZFpskM"
   },
   "source": [
    "### <font color='green'>Conclusão: Como a média amostral $\\bar{x}$ é significativamente maior que 500 ml, rejeitamos $H_0$. Neste caso, devem ser tomadas providências para ajustar o maquinário que preenche as embalagens.</font>"
   ]
  },
  {
   "cell_type": "markdown",
   "metadata": {},
   "source": [
    "Um fabricante de farinha afirma que a quantidade média de farinha nas embalagens de seu principal produto é de 500 g. Um teste de pesagem em 30 embalagens amostradas ao acaso mostrou um peso médio igual à 485 g. Estudos anteriores afirmam que a distribuição dos pesos segue uma normal e que o desvio padrão populacional é igual a 20 g. Considerando um nível de significância igual a 5%, responda as seguintes questões:\n",
    "\n",
    "1) Qual a hipótese nula a ser testada?\n",
    "\n",
    "2) Qual o valor da estatística de teste?\n",
    "\n",
    "3) Qual a conclusão do teste?\n"
   ]
  },
  {
   "cell_type": "code",
   "execution_count": null,
   "metadata": {},
   "outputs": [],
   "source": [
    "media_amostra = 485\n",
    "desvio_padrao = 20\n",
    "media = 500\n",
    "significancia = 0.05\n",
    "confianca = 1 - significancia\n",
    "n = 30\n",
    "\n",
    "probabilidade = (0.5 + (confianca / 2))\n",
    "z_alpha_2 = norm.ppf(probabilidade)\n",
    "\n",
    "z = (media_amostra - media) / (desvio_padrao / np.sqrt(n))\n",
    "\n",
    "print(f'A média é: {media}')\n",
    "print('z = ', round(z, 4))\n",
    "if(z <= -z_alpha_2 or z >= z_alpha_2):\n",
    "    print('Rejeitar H0')\n",
    "else:\n",
    "    print('Aceitar H0')"
   ]
  },
  {
   "cell_type": "markdown",
   "metadata": {
    "colab_type": "text",
    "id": "Aqv_KZoYpskN"
   },
   "source": [
    "### <font color='red'>Critério do $p-valor$</font>\n",
    "\n",
    "> ### Teste Bicaudal\n",
    "> ### Rejeitar $H_0$ se o valor $p\\leq\\alpha$"
   ]
  },
  {
   "cell_type": "code",
   "execution_count": null,
   "metadata": {
    "colab": {
     "base_uri": "https://localhost:8080/",
     "height": 35
    },
    "colab_type": "code",
    "id": "ucIaKkuopskN",
    "outputId": "fabc7c98-2eed-4209-bce1-51fe13cb599f"
   },
   "outputs": [],
   "source": [
    "p_valor = 2*(1 - norm.cdf(z))\n",
    "p_valor"
   ]
  },
  {
   "cell_type": "code",
   "execution_count": null,
   "metadata": {
    "colab": {
     "base_uri": "https://localhost:8080/",
     "height": 35
    },
    "colab_type": "code",
    "id": "wGgZS83apskO",
    "outputId": "025ad332-0429-4dbc-fd0c-b0c7441a3210"
   },
   "outputs": [],
   "source": [
    "# Outra forma de calcular o p_valor - Multiplicar por 2, pois, é Bicaudal\n",
    "# Verifica-se o valor aproximado ao cálculo da célula acima\n",
    "p_valor = 2 * (norm.sf(z))\n",
    "p_valor"
   ]
  },
  {
   "cell_type": "code",
   "execution_count": null,
   "metadata": {
    "colab": {
     "base_uri": "https://localhost:8080/",
     "height": 35
    },
    "colab_type": "code",
    "id": "vUHgYIHqpskR",
    "outputId": "b53d6bed-fcb0-41ae-ecf4-38e2dd1dcaec",
    "scrolled": true
   },
   "outputs": [],
   "source": [
    "p_valor <= significancia"
   ]
  },
  {
   "cell_type": "markdown",
   "metadata": {
    "colab_type": "text",
    "id": "YRw1O5X8pskT"
   },
   "source": [
    "https://www.statsmodels.org/stable/generated/statsmodels.stats.weightstats.ztest.html"
   ]
  },
  {
   "cell_type": "code",
   "execution_count": null,
   "metadata": {
    "colab": {},
    "colab_type": "code",
    "id": "rg3hUlqfpskU"
   },
   "outputs": [],
   "source": [
    "# Calculando o P-VALOR de maneira mais fácil\n",
    "from statsmodels.stats.weightstats import ztest"
   ]
  },
  {
   "cell_type": "code",
   "execution_count": null,
   "metadata": {
    "colab": {
     "base_uri": "https://localhost:8080/",
     "height": 35
    },
    "colab_type": "code",
    "id": "0pC3HAjzpskV",
    "outputId": "af72acf1-4256-4671-8b4c-0884fb69af99"
   },
   "outputs": [],
   "source": [
    "# A primeira saída é a estatística de teste e a segunda é o P-Valor\n",
    "ztest(x1 = amostra, value = media)"
   ]
  },
  {
   "cell_type": "markdown",
   "metadata": {
    "colab_type": "text",
    "id": "X5MVCXS6pskX"
   },
   "source": [
    "https://www.statsmodels.org/dev/generated/statsmodels.stats.weightstats.DescrStatsW.html"
   ]
  },
  {
   "cell_type": "code",
   "execution_count": null,
   "metadata": {
    "colab": {},
    "colab_type": "code",
    "id": "ke2O2P00pskX"
   },
   "outputs": [],
   "source": [
    "# Outra forma de calcular o p-valor com o statsmodels\n",
    "from statsmodels.stats.weightstats import DescrStatsW"
   ]
  },
  {
   "cell_type": "code",
   "execution_count": null,
   "metadata": {
    "colab": {},
    "colab_type": "code",
    "id": "Dz_iOYR4pskZ"
   },
   "outputs": [],
   "source": [
    "# Para usar a ferramenta acima primeiro é necessário criar um objeto DescrStatsW\n",
    "test = DescrStatsW(amostra)"
   ]
  },
  {
   "cell_type": "code",
   "execution_count": null,
   "metadata": {
    "colab": {
     "base_uri": "https://localhost:8080/",
     "height": 53
    },
    "colab_type": "code",
    "id": "LJBxBo5dpskb",
    "outputId": "ee7c8740-8a53-4ba5-a954-33b7e5b4c248"
   },
   "outputs": [],
   "source": [
    "# Similarmente ao teste anterior o primeiro resultado é a estatística do deste e  o segundo o p-valor\n",
    "test.ztest_mean(value = media)"
   ]
  },
  {
   "cell_type": "code",
   "execution_count": null,
   "metadata": {},
   "outputs": [],
   "source": [
    "# Para separar os valores é possível armazenálos em 2 variáveis\n",
    "z, p_valor = test.ztest_mean(value = media)\n",
    "print(z[0])\n",
    "print(p_valor[0])\n"
   ]
  },
  {
   "cell_type": "markdown",
   "metadata": {
    "colab_type": "text",
    "id": "YQQdl-Nepskv"
   },
   "source": [
    "---"
   ]
  },
  {
   "cell_type": "markdown",
   "metadata": {
    "colab_type": "text",
    "id": "U8OWXeVtpskv"
   },
   "source": [
    "## <font color=green>3.2 Teste Unicaudal</font>\n",
    "***"
   ]
  },
  {
   "cell_type": "markdown",
   "metadata": {
    "colab_type": "text",
    "id": "CPHPL4nWpskw"
   },
   "source": [
    "## <font color='red'>Problema</font>"
   ]
  },
  {
   "cell_type": "markdown",
   "metadata": {
    "colab_type": "text",
    "id": "vDyxOXLvpskw"
   },
   "source": [
    "Um famoso fabricante de refrigerantes alega que uma lata de 350 ml de seu principal produto contém, **no máximo**, **37 gramas de açúcar**. Esta alegação nos leva a entender que a quantidade média de açúcar em uma lata de refrigerante deve ser **igual ou menor que 37 g**.\n",
    "\n",
    "Um consumidor desconfiado e com conhecimentos em inferência estatística resolve testar a alegação do fabricante e seleciona, aleatóriamente, em um conjunto de estabelecimentos distintos, **uma amostra de 25 latas** do refrigerante em questão. Utilizando o equipamento correto o consumidor obteve as quantidades de açúcar em todas as 25 latas de sua amostra. \n",
    "\n",
    "**Assumindo que essa população se distribua aproximadamente como uma normal e considerando um nível de significância de 5%, é possível aceitar como válida a alegação do fabricante?**"
   ]
  },
  {
   "cell_type": "markdown",
   "metadata": {
    "colab_type": "text",
    "id": "5P5nWN0epsky"
   },
   "source": [
    "### Construindo tabela $t$ de Student\n",
    "https://docs.scipy.org/doc/scipy/reference/generated/scipy.stats.t.html"
   ]
  },
  {
   "cell_type": "code",
   "execution_count": null,
   "metadata": {
    "colab": {
     "base_uri": "https://localhost:8080/",
     "height": 1010
    },
    "colab_type": "code",
    "id": "lKuhGKPEpsky",
    "outputId": "7ed95512-f283-465d-9a75-da2d3f0384b9",
    "scrolled": false
   },
   "outputs": [],
   "source": [
    "import pandas as pd\n",
    "from scipy.stats import t as t_student\n",
    "\n",
    "tabela_t_student = pd.DataFrame(\n",
    "    [],\n",
    "    index = [i for i in range(1,31)],\n",
    "    columns = [i / 100 for i in range(10, 0, -1)]\n",
    ")\n",
    "\n",
    "for index in tabela_t_student.index:\n",
    "    for colum in tabela_t_student.columns:\n",
    "        tabela_t_student.loc[index, colum] = t_student.ppf(1 -float(colum) / 2, index)\n",
    "\n",
    "index = [('Graus de Liberdade (n - 1)', i) for i in range(1, 31)]\n",
    "tabela_t_student.index = pd.MultiIndex.from_tuples(index)\n",
    "\n",
    "columns = [(\"{0:0.3f}\".format(i/ 100), \"{0:0.3f}\".format(i/ 100 / 2)) for i in range(10, 0, -1)]\n",
    "tabela_t_student.columns = pd.MultiIndex.from_tuples(columns)\n",
    "\n",
    "tabela_t_student.rename_axis(['Bicaudal', 'Unicaudal'], axis=1, inplace = True)\n",
    "\n",
    "tabela_t_student\n"
   ]
  },
  {
   "cell_type": "markdown",
   "metadata": {
    "colab_type": "text",
    "id": "MbVu6FdNpsk0"
   },
   "source": [
    "<img src='https://caelum-online-public.s3.amazonaws.com/1229-estatistica-parte3/01/img004.png' width='250px'>\n",
    "\n",
    "As células da tabela acima são valores de $t$ para uma área ou probabilidade na cauda superior da distribuição $t$."
   ]
  },
  {
   "cell_type": "markdown",
   "metadata": {
    "colab_type": "text",
    "id": "UXM3qdYUpsk0"
   },
   "source": [
    "---"
   ]
  },
  {
   "cell_type": "markdown",
   "metadata": {
    "colab_type": "text",
    "id": "dDbUKs7-psk0"
   },
   "source": [
    "Os **testes unicaudais** verificam as variáveis em relação a um piso ou a um teto e avaliam os valores máximos ou mínimos esperados para os parâmetros em estudo e a chance de as estatísticas amostrais serem inferiores ou superiores a dado limite."
   ]
  },
  {
   "cell_type": "markdown",
   "metadata": {
    "colab_type": "text",
    "id": "AvnFJnUrpsk1"
   },
   "source": [
    "<img src='https://caelum-online-public.s3.amazonaws.com/1229-estatistica-parte3/01/img008.png' width='700px'>"
   ]
  },
  {
   "cell_type": "markdown",
   "metadata": {
    "colab_type": "text",
    "id": "IgDg23Xppsk1"
   },
   "source": [
    "### Dados do problema"
   ]
  },
  {
   "cell_type": "code",
   "execution_count": null,
   "metadata": {
    "colab": {},
    "colab_type": "code",
    "id": "IKvYICfEpsk2"
   },
   "outputs": [],
   "source": [
    "amostra = [37.27, 36.42, 34.84, 34.60, 37.49,\n",
    "           36.53, 35.49, 36.90, 34.52, 37.30,\n",
    "           34.99, 36.55, 36.29, 36.06, 37.42,\n",
    "           34.47, 36.70, 35.86, 36.80, 36.92,\n",
    "           37.04, 36.39, 37.32, 36.64, 35.45]"
   ]
  },
  {
   "cell_type": "code",
   "execution_count": null,
   "metadata": {
    "colab": {
     "base_uri": "https://localhost:8080/",
     "height": 824
    },
    "colab_type": "code",
    "id": "CBuciT30psk3",
    "outputId": "28df5179-0f8c-42e1-fe69-a3b02280f45f",
    "scrolled": false
   },
   "outputs": [],
   "source": [
    "amostra = pd.DataFrame(amostra, columns = ['Amostra'])\n",
    "amostra.head()"
   ]
  },
  {
   "cell_type": "code",
   "execution_count": null,
   "metadata": {
    "colab": {
     "base_uri": "https://localhost:8080/",
     "height": 35
    },
    "colab_type": "code",
    "id": "79TBzFsdpsk4",
    "outputId": "9af134c0-aee3-4394-a188-347978abdd80"
   },
   "outputs": [],
   "source": [
    "media_amostra = amostra.mean()[0]\n",
    "media_amostra"
   ]
  },
  {
   "cell_type": "code",
   "execution_count": null,
   "metadata": {
    "colab": {
     "base_uri": "https://localhost:8080/",
     "height": 35
    },
    "colab_type": "code",
    "id": "S82xbyghpsk6",
    "outputId": "e7b2b235-1352-4a9b-95ae-111dec8f65a0",
    "scrolled": true
   },
   "outputs": [],
   "source": [
    "desvio_padrao_amostra = amostra.std()[0]\n",
    "desvio_padrao_amostra"
   ]
  },
  {
   "cell_type": "code",
   "execution_count": null,
   "metadata": {
    "colab": {},
    "colab_type": "code",
    "id": "mvtiwLUWpsk8"
   },
   "outputs": [],
   "source": [
    "media = 37\n",
    "significancia = 0.05\n",
    "confianca = 1 - significancia\n",
    "n = 25\n",
    "graus_de_liberdade = n - 1"
   ]
  },
  {
   "cell_type": "markdown",
   "metadata": {
    "colab_type": "text",
    "id": "rpLOiPU2psk9"
   },
   "source": [
    "### **Passo 1** - formulação das hipóteses $H_0$ e $H_1$"
   ]
  },
  {
   "cell_type": "markdown",
   "metadata": {
    "colab_type": "text",
    "id": "iMBi2jUfsc4s"
   },
   "source": [
    "\n",
    "#### <font color='red'>Lembre-se, a hipótese nula sempre contém a alegação de igualdade</font>"
   ]
  },
  {
   "cell_type": "markdown",
   "metadata": {
    "colab_type": "text",
    "id": "8roeH10fpsk-"
   },
   "source": [
    "### $H_0: \\mu \\leq 37$\n",
    "\n",
    "### $H_1: \\mu > 37$"
   ]
  },
  {
   "cell_type": "markdown",
   "metadata": {
    "colab_type": "text",
    "id": "uqE6JXGspsk-"
   },
   "source": [
    "---"
   ]
  },
  {
   "cell_type": "markdown",
   "metadata": {
    "colab_type": "text",
    "id": "XsOkFtncpsk_"
   },
   "source": [
    "### **Passo 2** - escolha da distribuição amostral adequada\n",
    "<img src='https://caelum-online-public.s3.amazonaws.com/1229-estatistica-parte3/01/img003.png' width=70%>"
   ]
  },
  {
   "cell_type": "markdown",
   "metadata": {
    "colab_type": "text",
    "id": "jpXjRqO2psk_"
   },
   "source": [
    "### O tamanho da amostra é maior que 30?\n",
    "#### Resp.: Não\n",
    "\n",
    "### Podemos afirmar que a população se distribui aproximadamente como uma normal?\n",
    "#### Resp.: Sim\n",
    "\n",
    "### O desvio padrão populacional é conhecido?\n",
    "#### Resp.: Não"
   ]
  },
  {
   "cell_type": "markdown",
   "metadata": {
    "colab_type": "text",
    "id": "J14v2aXOpslA"
   },
   "source": [
    "---"
   ]
  },
  {
   "cell_type": "markdown",
   "metadata": {
    "colab_type": "text",
    "id": "DQvwhQWnpslA"
   },
   "source": [
    "### **Passo 3** - fixação da significância do teste ($\\alpha$)"
   ]
  },
  {
   "cell_type": "markdown",
   "metadata": {
    "colab_type": "text",
    "id": "Qaxh6lsapslB"
   },
   "source": [
    "https://docs.scipy.org/doc/scipy/reference/generated/scipy.stats.t.html"
   ]
  },
  {
   "cell_type": "code",
   "execution_count": null,
   "metadata": {
    "colab": {},
    "colab_type": "code",
    "id": "-WhDZiRopslC"
   },
   "outputs": [],
   "source": [
    "from scipy.stats import t as t_student"
   ]
  },
  {
   "cell_type": "code",
   "execution_count": null,
   "metadata": {
    "colab": {
     "base_uri": "https://localhost:8080/",
     "height": 173
    },
    "colab_type": "code",
    "id": "12t8QJMzpslD",
    "outputId": "6ff367ac-ceb6-41af-e9f3-364da4170020",
    "scrolled": true
   },
   "outputs": [],
   "source": [
    "tabela_t_student[18:25]"
   ]
  },
  {
   "cell_type": "markdown",
   "metadata": {
    "colab_type": "text",
    "id": "Brk3cI1npslE"
   },
   "source": [
    "### Obtendo $t_{\\alpha}$"
   ]
  },
  {
   "cell_type": "code",
   "execution_count": null,
   "metadata": {
    "colab": {
     "base_uri": "https://localhost:8080/",
     "height": 35
    },
    "colab_type": "code",
    "id": "xXi0eYGYpslF",
    "outputId": "7493d623-7775-4dc2-fb5a-39941b6fc277"
   },
   "outputs": [],
   "source": [
    "t_alpha = t_student.ppf(confianca, graus_de_liberdade)\n",
    "t_alpha"
   ]
  },
  {
   "cell_type": "markdown",
   "metadata": {
    "colab_type": "text",
    "id": "xMnBzjxLpslH"
   },
   "source": [
    "![Região de Aceitação](https://caelum-online-public.s3.amazonaws.com/1229-estatistica-parte3/01/img009.png)"
   ]
  },
  {
   "cell_type": "markdown",
   "metadata": {
    "colab_type": "text",
    "id": "Azy_uNSGpslI"
   },
   "source": [
    "---"
   ]
  },
  {
   "cell_type": "markdown",
   "metadata": {
    "colab_type": "text",
    "id": "YN4weG-1pslI"
   },
   "source": [
    "### **Passo 4** - cálculo da estatística-teste e verificação desse valor com as áreas de aceitação e rejeição do teste\n",
    "\n",
    "# $$t = \\frac{\\bar{x} - \\mu_0}{\\frac{s}{\\sqrt{n}}}$$"
   ]
  },
  {
   "cell_type": "code",
   "execution_count": null,
   "metadata": {
    "colab": {
     "base_uri": "https://localhost:8080/",
     "height": 35
    },
    "colab_type": "code",
    "id": "qY0DfIffpslI",
    "outputId": "00fd1921-6093-469d-d164-c864eb34b23b"
   },
   "outputs": [],
   "source": [
    "t = (media_amostra - media)/(desvio_padrao_amostra / np.sqrt(n))\n",
    "t"
   ]
  },
  {
   "cell_type": "markdown",
   "metadata": {
    "colab_type": "text",
    "id": "SCIchVxNpslK"
   },
   "source": [
    "![Estatística-Teste](https://caelum-online-public.s3.amazonaws.com/1229-estatistica-parte3/01/img010.png)"
   ]
  },
  {
   "cell_type": "markdown",
   "metadata": {
    "colab_type": "text",
    "id": "NiheMfTopslK"
   },
   "source": [
    "---"
   ]
  },
  {
   "cell_type": "markdown",
   "metadata": {
    "colab_type": "text",
    "id": "YCsJySBGpslK"
   },
   "source": [
    "### **Passo 5** - Aceitação ou rejeição da hipótese nula"
   ]
  },
  {
   "cell_type": "markdown",
   "metadata": {
    "colab_type": "text",
    "id": "ioLyTpbWpslL"
   },
   "source": [
    "<img src='https://caelum-online-public.s3.amazonaws.com/1229-estatistica-parte3/01/img013.png' width=90%>"
   ]
  },
  {
   "cell_type": "markdown",
   "metadata": {
    "colab_type": "text",
    "id": "TQcuPzbPpslL"
   },
   "source": [
    "### <font color='red'>Critério do valor crítico</font>\n",
    "\n",
    "> ### Teste Unicaudal Superior\n",
    "> ### Rejeitar $H_0$ se $t \\geq t_{\\alpha}$"
   ]
  },
  {
   "cell_type": "code",
   "execution_count": null,
   "metadata": {
    "colab": {
     "base_uri": "https://localhost:8080/",
     "height": 35
    },
    "colab_type": "code",
    "id": "pkoDYMLIpslM",
    "outputId": "d1166899-8745-4bf6-fa7c-40b072c1b1ea"
   },
   "outputs": [],
   "source": [
    "t >= t_alpha"
   ]
  },
  {
   "cell_type": "markdown",
   "metadata": {},
   "source": [
    "#### Exercício 1:\n",
    "\n",
    "A empresa Limpa Esgoto...."
   ]
  },
  {
   "cell_type": "code",
   "execution_count": null,
   "metadata": {},
   "outputs": [],
   "source": [
    "media = 150\n",
    "media_amostra = 230\n",
    "n = 20\n",
    "desvio_padrao_amostra = 90\n",
    "significancia = 0.05\n",
    "confianca = 1 - significancia\n",
    "graus_de_liberdade = n - 1\n",
    "\n",
    "\n",
    "t_alpha = t_student.ppf(confianca, graus_de_liberdade)\n",
    "print(f'O valor de t-Alpha é {t_alpha}')\n",
    "\n",
    "t = (media_amostra - media)/(desvio_padrao_amostra / np.sqrt(n))\n",
    "print(f'O valor de t é igua a {t}')\n",
    "\n",
    "print(f'O valor de \"t\" é maior ou igual que t_alpha: {t >= t_alpha}')\n"
   ]
  },
  {
   "cell_type": "markdown",
   "metadata": {
    "colab_type": "text",
    "id": "F-_AVTMJpslN"
   },
   "source": [
    "### <font color='green'>Conclusão: Com um nível de confiança de 95% não podemos rejeitar $H_0$, ou seja, a alegação do fabricante é verdadeira.</font>"
   ]
  },
  {
   "cell_type": "markdown",
   "metadata": {
    "colab_type": "text",
    "id": "7ye3tS25pslO"
   },
   "source": [
    "### <font color='red'>Critério do valor $p$</font>\n",
    "\n",
    "> ### Teste Unicaudal Superior\n",
    "> ### Rejeitar $H_0$ se o valor $p\\leq\\alpha$"
   ]
  },
  {
   "cell_type": "code",
   "execution_count": null,
   "metadata": {
    "colab": {
     "base_uri": "https://localhost:8080/",
     "height": 35
    },
    "colab_type": "code",
    "id": "AtPMeAz4pslQ",
    "outputId": "c26c8cc5-1244-47ff-8001-c490522ec4c2"
   },
   "outputs": [],
   "source": [
    "t"
   ]
  },
  {
   "cell_type": "code",
   "execution_count": null,
   "metadata": {
    "colab": {
     "base_uri": "https://localhost:8080/",
     "height": 35
    },
    "colab_type": "code",
    "id": "gevdMX3apslS",
    "outputId": "5e580220-719d-4a83-d63a-f58bc5924b57"
   },
   "outputs": [],
   "source": [
    "# O p-valor deve ser igual ou menor que o nível de significância (0,05)\n",
    "p_valor = t_student.sf(t, df = 24)\n",
    "p_valor"
   ]
  },
  {
   "cell_type": "code",
   "execution_count": null,
   "metadata": {
    "colab": {
     "base_uri": "https://localhost:8080/",
     "height": 35
    },
    "colab_type": "code",
    "id": "_hfVEPQQpslU",
    "outputId": "1ccf5f1f-dd1f-4855-b981-f3bb76d1163e"
   },
   "outputs": [],
   "source": [
    "p_valor <= significancia"
   ]
  },
  {
   "cell_type": "markdown",
   "metadata": {
    "colab_type": "text",
    "id": "4JxGeADypslW"
   },
   "source": [
    "https://www.statsmodels.org/dev/generated/statsmodels.stats.weightstats.DescrStatsW.html"
   ]
  },
  {
   "cell_type": "code",
   "execution_count": null,
   "metadata": {
    "colab": {},
    "colab_type": "code",
    "id": "Y1gP6yjvpslW"
   },
   "outputs": [],
   "source": [
    "# Realizando o t-test com a biblioteca statsmodels\n",
    "from statsmodels.stats.weightstats import DescrStatsW"
   ]
  },
  {
   "cell_type": "code",
   "execution_count": null,
   "metadata": {
    "colab": {},
    "colab_type": "code",
    "id": "7V555DeTpslX"
   },
   "outputs": [],
   "source": [
    "test = DescrStatsW(amostra)"
   ]
  },
  {
   "cell_type": "code",
   "execution_count": null,
   "metadata": {
    "colab": {
     "base_uri": "https://localhost:8080/",
     "height": 71
    },
    "colab_type": "code",
    "id": "y36SnhnWpslY",
    "outputId": "96889953-1b37-417b-8588-b0f7f29fc5af"
   },
   "outputs": [],
   "source": [
    "test.ttest_mean(value = media, alternative='larger')"
   ]
  },
  {
   "cell_type": "code",
   "execution_count": null,
   "metadata": {
    "colab": {
     "base_uri": "https://localhost:8080/",
     "height": 35
    },
    "colab_type": "code",
    "id": "CMZcYUyiz0mr",
    "outputId": "c9e81381-094c-444a-8dd9-557865e8c582"
   },
   "outputs": [],
   "source": [
    "# Armazenando a saída acima em variáveis\n",
    "\n",
    "estatistica, p_valor, graus_de_liberdade = test.ttest_mean(value = media, alternative='larger')\n",
    "print(f'A estatística do teste é: {estatistica}')\n",
    "print(f'O p-valor do teste é: {p_valor}')\n",
    "print(f'Os graus de liberdade do teste são: {graus_de_liberdade}')"
   ]
  },
  {
   "cell_type": "code",
   "execution_count": null,
   "metadata": {},
   "outputs": [],
   "source": [
    "p_valor[0] <= significancia"
   ]
  },
  {
   "cell_type": "markdown",
   "metadata": {},
   "source": [
    "#### Exercício:\n",
    "\n",
    "A pizzaria Muito Queijo..."
   ]
  },
  {
   "cell_type": "code",
   "execution_count": null,
   "metadata": {},
   "outputs": [],
   "source": [
    "from scipy.stats import norm\n",
    "import numpy as np\n",
    "\n",
    "media = 350\n",
    "n = 35\n",
    "media_amostra = 330\n",
    "desvio_padrao_amostra = 80\n",
    "significancia = 0.05\n",
    "confianca = 1 - significancia\n",
    "graus_de_liberdade = n - 1\n",
    "\n",
    "z_alpha = norm.ppf(confianca)\n",
    "\n",
    "z = (media_amostra - media) / (desvio_padrao_amostra / np.sqrt(n))\n",
    "\n",
    "print('z(alpha) =', round(z_alpha, 3))\n",
    "print('z =', round(z, 3))\n",
    "if(z <= -z_alpha):\n",
    "    print('Rejeitar H0')\n",
    "else:\n",
    "    print('Aceitar H0')"
   ]
  },
  {
   "cell_type": "markdown",
   "metadata": {
    "colab_type": "text",
    "id": "wlUdcJnDpsla"
   },
   "source": [
    "---"
   ]
  },
  {
   "cell_type": "markdown",
   "metadata": {
    "colab_type": "text",
    "id": "L7_ZbBBtpslb"
   },
   "source": [
    "## <font color=green>3.4 Testes para Duas Amostras</font>\n",
    "***"
   ]
  },
  {
   "cell_type": "markdown",
   "metadata": {
    "colab_type": "text",
    "id": "lmAJLIu8pslb"
   },
   "source": [
    "## <font color='red'>Problema</font>"
   ]
  },
  {
   "cell_type": "markdown",
   "metadata": {
    "colab_type": "text",
    "id": "0zUUY8klpslc"
   },
   "source": [
    "Em nosso dataset temos os rendimento dos chefes de domicílio obtidos da Pesquisa Nacional por Amostra de Domicílios - PNAD no ano de 2015. Um problema bastante conhecido em nosso país diz respeito a desigualdade de renda, principalmente entre homens e mulheres.\n",
    "\n",
    "Duas amostras aleatórias, uma de **500 homens** e outra com **500 mulheres**, foram selecionadas em nosso dataset. Com o objetivo de comprovar tal desigualdade, **teste a igualdade das médias** entre estas duas amostras com um nível de **significância de 1%**."
   ]
  },
  {
   "cell_type": "markdown",
   "metadata": {
    "colab_type": "text",
    "id": "WUknTBZgpslc"
   },
   "source": [
    "---"
   ]
  },
  {
   "cell_type": "markdown",
   "metadata": {
    "colab_type": "text",
    "id": "gFIUL8Hgpslc"
   },
   "source": [
    "É possível também utilizar testes de hipóteses para comparar duas diferentes amostras. Neste tipo de teste se deseja decidir se uma amostra é diferente da outra."
   ]
  },
  {
   "cell_type": "markdown",
   "metadata": {
    "colab_type": "text",
    "id": "xzGuwM4xpslc"
   },
   "source": [
    "### Seleção das amostras"
   ]
  },
  {
   "cell_type": "code",
   "execution_count": null,
   "metadata": {},
   "outputs": [],
   "source": [
    "import pandas as pd"
   ]
  },
  {
   "cell_type": "code",
   "execution_count": null,
   "metadata": {},
   "outputs": [],
   "source": [
    "dados = pd.read_csv('dados.csv')"
   ]
  },
  {
   "cell_type": "code",
   "execution_count": null,
   "metadata": {
    "colab": {},
    "colab_type": "code",
    "id": "nuNSrzfYpsld",
    "scrolled": true
   },
   "outputs": [],
   "source": [
    "homens = dados.query('Sexo == 0').sample(n = 500, random_state = 101).Renda"
   ]
  },
  {
   "cell_type": "code",
   "execution_count": null,
   "metadata": {
    "colab": {},
    "colab_type": "code",
    "id": "W-W9IOs1psle",
    "scrolled": true
   },
   "outputs": [],
   "source": [
    "mulheres = dados.query('Sexo == 1').sample(n = 500, random_state = 101).Renda"
   ]
  },
  {
   "cell_type": "markdown",
   "metadata": {
    "colab_type": "text",
    "id": "FOFa-cHwpslg"
   },
   "source": [
    "### Dados do problema"
   ]
  },
  {
   "cell_type": "code",
   "execution_count": null,
   "metadata": {
    "colab": {
     "base_uri": "https://localhost:8080/",
     "height": 35
    },
    "colab_type": "code",
    "id": "BGyXCbompslh",
    "outputId": "a5e8a9b9-ee69-408f-b8c0-6cac89b36d9a"
   },
   "outputs": [],
   "source": [
    "media_amostra_M = mulheres.mean()\n",
    "media_amostra_M"
   ]
  },
  {
   "cell_type": "code",
   "execution_count": null,
   "metadata": {},
   "outputs": [],
   "source": [
    "desvio_padrao_amostra_M = mulheres.std()\n",
    "desvio_padrao_amostra_M"
   ]
  },
  {
   "cell_type": "code",
   "execution_count": null,
   "metadata": {
    "colab": {
     "base_uri": "https://localhost:8080/",
     "height": 35
    },
    "colab_type": "code",
    "id": "RoxFOCA3pslk",
    "outputId": "85133b37-a4a6-49cd-a585-700725811b09"
   },
   "outputs": [],
   "source": [
    "media_amostra_H = homens.mean()\n",
    "media_amostra_H"
   ]
  },
  {
   "cell_type": "code",
   "execution_count": null,
   "metadata": {
    "colab": {
     "base_uri": "https://localhost:8080/",
     "height": 35
    },
    "colab_type": "code",
    "id": "Of8L6Hygpsll",
    "outputId": "fe0dc0f3-79e3-4375-de47-43a4ff6c3f79"
   },
   "outputs": [],
   "source": [
    "desvio_padrao_amostra_H = homens.std()\n",
    "desvio_padrao_amostra_H"
   ]
  },
  {
   "cell_type": "code",
   "execution_count": null,
   "metadata": {
    "colab": {
     "base_uri": "https://localhost:8080/",
     "height": 35
    },
    "colab_type": "code",
    "id": "-cSpXXTepsln",
    "outputId": "8a3d0017-ac70-4fe3-aae1-0c7bf32e676e"
   },
   "outputs": [],
   "source": [
    "significancia = 0.01\n",
    "confianca = 1 - significancia\n",
    "n_M = 500\n",
    "n_H = 500\n",
    "D_0 = 0"
   ]
  },
  {
   "cell_type": "markdown",
   "metadata": {
    "colab_type": "text",
    "id": "PGoWwWwjpslp"
   },
   "source": [
    "---"
   ]
  },
  {
   "cell_type": "markdown",
   "metadata": {
    "colab_type": "text",
    "id": "tO597Oxgpslp"
   },
   "source": [
    "### **Passo 1** - formulação das hipóteses $H_0$ e $H_1$\n",
    "\n",
    "#### <font color='red'>Lembre-se, a hipótese nula sempre contém a alegação de igualdade</font>"
   ]
  },
  {
   "cell_type": "markdown",
   "metadata": {
    "colab_type": "text",
    "id": "LysVU-7fpslr"
   },
   "source": [
    "### $\\mu_1 \\Rightarrow$ Média das rendas dos chefes de domicílios do sexo masculino\n",
    "### $\\mu_2 \\Rightarrow$ Média das rendas dos chefes de domicílios do sexo feminino\n",
    "\n",
    "### $\n",
    "\\begin{cases}\n",
    "H_0: \\mu_1 \\leq \\mu_2\\\\\n",
    "H_1: \\mu_1 > \\mu_2\n",
    "\\end{cases}\n",
    "$\n",
    "\n",
    "### ou\n",
    "\n",
    "### $\n",
    "\\begin{cases}\n",
    "H_0: \\mu_1 -\\mu_2 \\leq 0\\\\\n",
    "H_1: \\mu_1 -\\mu_2 > 0\n",
    "\\end{cases}\n",
    "$\n",
    "\n",
    "mu1 = Média das rendas dos chefes de domicílios do sexo masculino\n",
    "\n",
    "mu2 = Média das rendas dos chefes de domicílios do sexo feminino\n",
    "\n",
    "(h1 - Hipótese alternativa)O teste consiste em verificar se a média da renda dos homens é maior que a média da renda das mulheres.\n",
    "\n",
    "(h0) - A média das rendas é igual;"
   ]
  },
  {
   "cell_type": "markdown",
   "metadata": {
    "colab_type": "text",
    "id": "ENKqbCgQpslr"
   },
   "source": [
    "---"
   ]
  },
  {
   "cell_type": "markdown",
   "metadata": {
    "colab_type": "text",
    "id": "dBA05Y3Zpslr"
   },
   "source": [
    "### **Passo 2** - escolha da distribuição amostral adequada\n",
    "<img src='https://caelum-online-public.s3.amazonaws.com/1229-estatistica-parte3/01/img003.png' width=70%>\n",
    "\n",
    "### <font color='red'>Observação importante</font>\n",
    "> Em testes que envolvam duas amostras com o emprego da tabela $t$ de Student, o número de graus de liberdade será sempre igual a $n_1 + n_2 - 2$"
   ]
  },
  {
   "cell_type": "markdown",
   "metadata": {
    "colab_type": "text",
    "id": "6_Q_Wtjlpsls"
   },
   "source": [
    "### O tamanho da amostra é maior que 30?\n",
    "#### Resp.: Sim\n",
    "\n",
    "### O desvio padrão populacional é conhecido?\n",
    "#### Resp.: Não"
   ]
  },
  {
   "cell_type": "markdown",
   "metadata": {
    "colab_type": "text",
    "id": "T6sVzVjVpsls"
   },
   "source": [
    "---"
   ]
  },
  {
   "cell_type": "markdown",
   "metadata": {
    "colab_type": "text",
    "id": "SUN4yJqzpsls"
   },
   "source": [
    "### **Passo 3** - fixação da significância do teste ($\\alpha$)"
   ]
  },
  {
   "cell_type": "code",
   "execution_count": null,
   "metadata": {},
   "outputs": [],
   "source": [
    "from scipy.stats import norm"
   ]
  },
  {
   "cell_type": "code",
   "execution_count": null,
   "metadata": {
    "colab": {
     "base_uri": "https://localhost:8080/",
     "height": 35
    },
    "colab_type": "code",
    "id": "b3Y_CZmzpsls",
    "outputId": "bc2e1945-7bb1-4c2c-851a-f0102328ce0e"
   },
   "outputs": [],
   "source": [
    "# Como este problema não é bicaudal a probabilidade é igual a confiança, ou seja, 99%\n",
    "probabilidade = confianca\n",
    "probabilidade"
   ]
  },
  {
   "cell_type": "code",
   "execution_count": null,
   "metadata": {
    "colab": {
     "base_uri": "https://localhost:8080/",
     "height": 35
    },
    "colab_type": "code",
    "id": "qNse2bFRpslu",
    "outputId": "b03d1db9-17ec-4577-825d-dc81f7aee07b"
   },
   "outputs": [],
   "source": [
    "# https://docs.scipy.org/doc/scipy/reference/generated/scipy.stats.norm.html\n",
    "\n",
    "z_alpha = norm.ppf(probabilidade)\n",
    "z_alpha.round(2)"
   ]
  },
  {
   "cell_type": "markdown",
   "metadata": {
    "colab_type": "text",
    "id": "y9u_zd8Opslv"
   },
   "source": [
    "![Região de Aceitação](https://caelum-online-public.s3.amazonaws.com/1229-estatistica-parte3/01/img011.png)"
   ]
  },
  {
   "cell_type": "markdown",
   "metadata": {
    "colab_type": "text",
    "id": "xUhiEXRMpslv"
   },
   "source": [
    "---"
   ]
  },
  {
   "cell_type": "markdown",
   "metadata": {
    "colab_type": "text",
    "id": "iooB1aPHpslv"
   },
   "source": [
    "### **Passo 4** - cálculo da estatística-teste e verificação desse valor com as áreas de aceitação e rejeição do teste\n",
    "\n",
    "# $$z = \\frac{(\\bar{x_1} - \\bar{x_2})-D_0}{\\sqrt{\\frac{s_1^2}{n_1} + \\frac{s_2^2}{n_2}}}$$"
   ]
  },
  {
   "cell_type": "code",
   "execution_count": null,
   "metadata": {},
   "outputs": [],
   "source": [
    "import numpy as np"
   ]
  },
  {
   "cell_type": "code",
   "execution_count": null,
   "metadata": {
    "colab": {
     "base_uri": "https://localhost:8080/",
     "height": 35
    },
    "colab_type": "code",
    "id": "AL2i9JOTpslw",
    "outputId": "920efcb1-4b72-4366-9930-52d6e0119549"
   },
   "outputs": [],
   "source": [
    "numerador = (media_amostra_H - media_amostra_M) - D_0\n",
    "denominador = np.sqrt((desvio_padrao_amostra_H ** 2 / n_H)+(desvio_padrao_amostra_M ** 2 / n_M))\n",
    "z = numerador / denominador\n",
    "z"
   ]
  },
  {
   "cell_type": "markdown",
   "metadata": {
    "colab_type": "text",
    "id": "jXrfHvH5pslx"
   },
   "source": [
    "![Estatística-Teste](https://caelum-online-public.s3.amazonaws.com/1229-estatistica-parte3/01/img012.png)"
   ]
  },
  {
   "cell_type": "markdown",
   "metadata": {
    "colab_type": "text",
    "id": "4dn58Fc2pslx"
   },
   "source": [
    "---"
   ]
  },
  {
   "cell_type": "markdown",
   "metadata": {
    "colab_type": "text",
    "id": "P-7NL33-pslx"
   },
   "source": [
    "### **Passo 5** - Aceitação ou rejeição da hipótese nula"
   ]
  },
  {
   "cell_type": "markdown",
   "metadata": {
    "colab_type": "text",
    "id": "n_djxfYtpslx"
   },
   "source": [
    "<img src='https://caelum-online-public.s3.amazonaws.com/1229-estatistica-parte3/01/img014.png' width=90%>"
   ]
  },
  {
   "cell_type": "markdown",
   "metadata": {
    "colab_type": "text",
    "id": "QrObW-BXpsly"
   },
   "source": [
    "### <font color='red'>Critério do valor crítico</font>\n",
    "\n",
    "> ### Teste Unicaudal\n",
    "> ### Rejeitar $H_0$ se $z \\geq z_{\\alpha}$"
   ]
  },
  {
   "cell_type": "code",
   "execution_count": null,
   "metadata": {
    "colab": {
     "base_uri": "https://localhost:8080/",
     "height": 35
    },
    "colab_type": "code",
    "id": "tkJSji7gpsly",
    "outputId": "8bbaa7f8-311f-4b6e-98f0-6964f510a91d"
   },
   "outputs": [],
   "source": [
    "z >= z_alpha"
   ]
  },
  {
   "cell_type": "markdown",
   "metadata": {
    "colab_type": "text",
    "id": "UnBVO1uDpslz"
   },
   "source": [
    "### <font color='green'>Conclusão: Com um nível de confiança de 99% rejeitamos $H_0$, isto é, concluímos que a média das rendas dos chefes de domicílios do sexo masculino é maior que a média das rendas das chefes de domicílios do sexo feminino. Confirmando a alegação de desigualdade de renda entre os sexos.</font>"
   ]
  },
  {
   "cell_type": "markdown",
   "metadata": {},
   "source": [
    "### Critério do p-valor\n",
    "\n",
    "`Teste Unicaudal`\n",
    "\n",
    "`Rejeitar H0 se o valor p <= alpha`"
   ]
  },
  {
   "cell_type": "markdown",
   "metadata": {},
   "source": [
    "https://www.statsmodels.org/dev/generated/statsmodels.stats.weightstats.DescrStatsW.html\n",
    "https://www.statsmodels.org/dev/generated/statsmodels.stats.weightstats.CompareMeans.ttest_ind.html"
   ]
  },
  {
   "cell_type": "code",
   "execution_count": null,
   "metadata": {},
   "outputs": [],
   "source": [
    "from statsmodels.stats.weightstats import DescrStatsW, CompareMeans"
   ]
  },
  {
   "cell_type": "code",
   "execution_count": null,
   "metadata": {},
   "outputs": [],
   "source": [
    "dados = pd.read_csv('dados.csv')"
   ]
  },
  {
   "cell_type": "code",
   "execution_count": null,
   "metadata": {},
   "outputs": [],
   "source": [
    "homens = dados.query('Sexo == 0').sample(n = 500, random_state = 101).Renda\n",
    "mulheres = dados.query('Sexo == 1').sample(n = 500, random_state = 101).Renda"
   ]
  },
  {
   "cell_type": "code",
   "execution_count": null,
   "metadata": {},
   "outputs": [],
   "source": [
    "test_H = DescrStatsW(homens)"
   ]
  },
  {
   "cell_type": "code",
   "execution_count": null,
   "metadata": {},
   "outputs": [],
   "source": [
    "test_M = DescrStatsW(mulheres)"
   ]
  },
  {
   "cell_type": "code",
   "execution_count": null,
   "metadata": {},
   "outputs": [],
   "source": [
    "test = test_H.get_compare(test_M)"
   ]
  },
  {
   "cell_type": "code",
   "execution_count": null,
   "metadata": {},
   "outputs": [],
   "source": [
    "test_A = test_H.get_compare(test_M)"
   ]
  },
  {
   "cell_type": "code",
   "execution_count": null,
   "metadata": {},
   "outputs": [],
   "source": [
    "test.ztest_ind(alternative='larger', value=0)"
   ]
  },
  {
   "cell_type": "code",
   "execution_count": null,
   "metadata": {},
   "outputs": [],
   "source": [
    "test_A = test_H.get_compare(test_M)\n",
    "z, p_valor = test_A.ztest_ind(alternative='larger', value=0)\n",
    "print(p_valor)\n",
    "\n",
    "test_B = CompareMeans(test_H, test_M)\n",
    "z, p_valor = test_B.ztest_ind(alternative='larger', value=0)\n",
    "print(p_valor)\n",
    "\n",
    "p_valor <= significancia"
   ]
  },
  {
   "cell_type": "markdown",
   "metadata": {},
   "source": [
    "### Outra solução é com o 'CompareMeans'"
   ]
  },
  {
   "cell_type": "code",
   "execution_count": null,
   "metadata": {},
   "outputs": [],
   "source": [
    "test = CompareMeans(test_H, test_M)"
   ]
  },
  {
   "cell_type": "code",
   "execution_count": null,
   "metadata": {},
   "outputs": [],
   "source": [
    "test_A = test_H.get_compare(test_M)\n",
    "z, p_valor = test_A.ztest_ind(alternative='larger', value=0)\n",
    "print(p_valor)"
   ]
  },
  {
   "cell_type": "code",
   "execution_count": null,
   "metadata": {},
   "outputs": [],
   "source": [
    "# Este teste NÃO precisa, é apenas para confirmar que chegamos aos mesmo valor de do p-valor\n",
    "test_B = CompareMeans(test_H, test_M)\n",
    "z, p_valor = test_B.ztest_ind(alternative='larger', value=0)\n",
    "print(p_valor)"
   ]
  },
  {
   "cell_type": "code",
   "execution_count": null,
   "metadata": {},
   "outputs": [],
   "source": [
    "p_valor <= significancia"
   ]
  },
  {
   "cell_type": "markdown",
   "metadata": {},
   "source": [
    "Um fabricante de cosméticos afirma que a adição de um novo composto químico em sua linha de shampoos consegue promover em mais de 2 centímetros o crescimento dos fios de cabelo em um período de 60 dias. Duas amostras de pessoas foram selecionadas e testadas, uma utilizando o shampoo novo (com o composto) e a outra com o shampoo antigo (sem o composto).\n",
    "\n",
    "Os resultados (crescimento dos fios de cabelo em centímetros) podem ser verificados na tabela abaixo:\n",
    "\n",
    "Shampoo Novo\tShampoo Antigo\n",
    "    3,4\t             0,3\n",
    "    4,9\t             1,2\n",
    "    2,8\t             1,2\n",
    "    5,5\t             1,7\n",
    "    3,7\t             1,1\n",
    "    2,5\t             0,6\n",
    "    4,3\t             1,2\n",
    "    4,6\t             1,5\n",
    "    3,7\t             0,5\n",
    "    3,4\t             0,7\n",
    "\n",
    "Dados da tabela acima:\n",
    "\n",
    "shampoo_Novo = pd.Series([3.4, 4.9, 2.8, 5.5, 3.7, 2.5, 4.3, 4.6, 3.7, 3.4])\n",
    "shampoo_Antigo = pd.Series([0.3, 1.2, 1.2, 1.7, 1.1, 0.6, 1.2, 1.5, 0.5, 0.7])\n",
    "\n",
    "Assumindo um nível de confiança de 95% e considerando que as populações se distribuem como uma normal, podemos acreditar na afirmação do fabricante do shampoo? Assinale a alternativa que apresenta a estatística de teste e a decisão correta do teste.\n",
    "\n",
    "Um pouco mais de teoria: como se trata de um problema um pouco diferente do apresentado em nossa aula, vamos esclarecer alguns pontos para ajudar na solução:\n",
    "\n",
    "1) Em testes entre duas amostras, quando realizamos a escolha da distribuição amostral adequada (passo 2) e perguntamos se n ≥ 30, temos que considerar que n = n1 + n2, onde n1 é o tamanho da primeira amostra e n2 o tamanho da segunda;\n",
    "\n",
    "2) Quando n1 + n2 ≥ 30, utilizamos z (normal), e quando n1 + n2 < 30, σ não for conhecido e as populações forem normalmente distribuídas, utilizamos t (t-Student);\n",
    "\n",
    "3) Quando utilizamos a tabela t de Student, em teste de duas amostras, os graus de liberdade são obtidos da seguinte forma: n1 + n2 - 2;\n",
    "\n",
    "4) Quando o problema nos pergunta se podemos acreditar na afirmação do fabricante, está nos indicando o que devemos testar, ou seja, a nossa hipótese alternativa (H1), que no caso é:\n",
    "\n",
    "Onde:\n",
    "\n",
    "    μ1 = Crescimento médio dos cabelos com o uso do novo shampoo\n",
    "    μ2 = Crescimento médio dos cabelos com o uso do shampoo antigo.\n",
    "\n",
    "5) Em nosso próximo vídeo, utilizaremos o ztest_ind() para solucionar problemas como este. Um teste similar ao ztest_ind(), que utiliza a distribuição t de Student, é o ttest_ind(). Aqui, você será redirecionado para a documentação. Observe que o ttest_ind() retorna a estatística de teste, o p-valor e também os graus de liberdade."
   ]
  },
  {
   "cell_type": "code",
   "execution_count": null,
   "metadata": {},
   "outputs": [],
   "source": [
    "from scipy.stats import t as t_student\n",
    "import numpy as np\n",
    "import pandas as pd"
   ]
  },
  {
   "cell_type": "code",
   "execution_count": null,
   "metadata": {},
   "outputs": [],
   "source": [
    "shampoo_Novo = pd.Series([3.4, 4.9, 2.8, 5.5, 3.7, 2.5, 4.3, 4.6, 3.7, 3.4])\n",
    "shampoo_Antigo = pd.Series([0.3, 1.2, 1.2, 1.7, 1.1, 0.6, 1.2, 1.5, 0.5, 0.7])"
   ]
  },
  {
   "cell_type": "code",
   "execution_count": null,
   "metadata": {},
   "outputs": [],
   "source": [
    "media_new = shampoo_Novo.mean()\n",
    "media_new"
   ]
  },
  {
   "cell_type": "code",
   "execution_count": null,
   "metadata": {},
   "outputs": [],
   "source": [
    "desvio_padrao_new = shampoo_Novo.std()\n",
    "desvio_padrao_new"
   ]
  },
  {
   "cell_type": "code",
   "execution_count": null,
   "metadata": {},
   "outputs": [],
   "source": [
    "media_old = shampoo_Antigo.mean()\n",
    "media_old"
   ]
  },
  {
   "cell_type": "code",
   "execution_count": null,
   "metadata": {},
   "outputs": [],
   "source": [
    "desvio_padrao_old = shampoo_Antigo.std()\n",
    "desvio_padrao_old"
   ]
  },
  {
   "cell_type": "code",
   "execution_count": null,
   "metadata": {},
   "outputs": [],
   "source": [
    "significancia = 0.05\n",
    "confianca = 1 - significancia\n",
    "new = 10\n",
    "old = 10\n",
    "D_0 = 2\n",
    "graus_de_liberdade = new + old -2"
   ]
  },
  {
   "cell_type": "code",
   "execution_count": null,
   "metadata": {},
   "outputs": [],
   "source": [
    "t_alpha = t_student.ppf(confianca, graus_de_liberdade)\n",
    "t_alpha"
   ]
  },
  {
   "cell_type": "code",
   "execution_count": null,
   "metadata": {
    "colab": {
     "base_uri": "https://localhost:8080/",
     "height": 35
    },
    "colab_type": "code",
    "id": "tweh7q_spsl5",
    "outputId": "aa9c3ae3-87b0-466d-908e-c7a7b378c583"
   },
   "outputs": [],
   "source": [
    "numerador = (media_new - media_old) - D_0\n",
    "denominador = np.sqrt((desvio_padrao_new ** 2 / new)+(desvio_padrao_old ** 2 / old))\n",
    "t = numerador / denominador\n",
    "print('t =', round(t, 4))"
   ]
  },
  {
   "cell_type": "code",
   "execution_count": null,
   "metadata": {
    "colab": {},
    "colab_type": "code",
    "id": "qRkrt2XZhL9v"
   },
   "outputs": [],
   "source": [
    "if(t >= t_alpha):\n",
    "    print('Rejeitar H0')\n",
    "else:\n",
    "    print('Aceitar H0')"
   ]
  },
  {
   "cell_type": "markdown",
   "metadata": {
    "colab_type": "text",
    "id": "0gxk-t4jpsl8"
   },
   "source": [
    "---"
   ]
  },
  {
   "cell_type": "markdown",
   "metadata": {
    "colab_type": "text",
    "id": "IEHa9ZC_psl8"
   },
   "source": [
    "# <font color=green>4 TESTES NÃO PARAMÉTRICOS</font>\n",
    "***"
   ]
  },
  {
   "cell_type": "markdown",
   "metadata": {
    "colab_type": "text",
    "id": "8iRwKn9Wpsl8"
   },
   "source": [
    "O trabalho com pequenas amostras pode levar a não aceitação da validade do teorema central do limite e também na impossibilidade de fazer suposições sobre a distribuição da variável avaliada. Quando isso ocorre torna-se necessária a aplicação de testes não paramétricos. Nos testes não paramétricos, não fazemos hipóteses sobre a distribuição (de probabilidade) das quais as observações são extraídas."
   ]
  },
  {
   "cell_type": "markdown",
   "metadata": {
    "colab_type": "text",
    "id": "ngqmtRxFpsl9"
   },
   "source": [
    "## <font color='red'>Problema</font>"
   ]
  },
  {
   "cell_type": "markdown",
   "metadata": {
    "colab_type": "text",
    "id": "Al0BiC02psl9"
   },
   "source": [
    "Antes de cada partida do campeonato nacional de futebol, as moedas utilizadas pelos árbitros devem ser verificadas para se ter certeza de que não são viciadas, ou seja, que não tendam para determinado resultado. Para isso um teste simples deve ser realizado antes de cada partida. Este teste consiste em lançar a moeda do jogo **50 vezes** e contar as frequências de **CARAS** e **COROAS** obtidas. A tabela abaixo mostra o resultado obtido no experimento:\n",
    "\n",
    "||CARA|COROA|\n",
    "|-|-|-|\n",
    "|Observado|17|33|\n",
    "|Esperado|25|25|\n",
    "\n",
    "A um **nível de significância de 5%**, é possível afirmar que a moeda não é honesta, isto é, que a moeda apresenta uma probabilidade maior de cair com a face **CARA** voltada para cima?"
   ]
  },
  {
   "cell_type": "markdown",
   "metadata": {
    "colab_type": "text",
    "id": "56KA3Hnupsl9"
   },
   "source": [
    "## <font color=green>4.1 Teste do Qui-Quadrado ( $\\chi^2$)</font>\n",
    "***"
   ]
  },
  {
   "cell_type": "markdown",
   "metadata": {
    "colab_type": "text",
    "id": "GxTlvB4Zpsl9"
   },
   "source": [
    "Também conhecido como teste de adequação ao ajustamento, seu nome se deve ao fato de utilizar uma variável estatística padronizada, representada pela letra grega qui ( $\\chi$) elevada ao quadrado. A tabela com os valores padronizados e como obtê-la podem ser vistos logo abaixo.\n",
    "\n",
    "O teste do $\\chi^2$ testa a hipótese nula de não haver diferença entre as frequências observadas de um determinado evento e as frequências que são realmente esperadas para este evento.\n",
    "\n",
    "Os passos de aplicação do teste são bem parecidos aos vistos para os testes paramétricos.\n",
    "\n",
    "![Região de Aceitação](https://caelum-online-public.s3.amazonaws.com/1229-estatistica-parte3/01/img017.png)"
   ]
  },
  {
   "cell_type": "markdown",
   "metadata": {
    "colab_type": "text",
    "id": "1lbHtKGfpsl9"
   },
   "source": [
    "### Construindo tabela $\\chi^2$\n",
    "https://docs.scipy.org/doc/scipy/reference/generated/scipy.stats.chi.html"
   ]
  },
  {
   "cell_type": "code",
   "execution_count": 1,
   "metadata": {
    "colab": {
     "base_uri": "https://localhost:8080/",
     "height": 1047
    },
    "colab_type": "code",
    "id": "k7sZCK8dpsl-",
    "outputId": "8510db24-6b42-49f2-a36a-8fa2865342b7",
    "scrolled": false
   },
   "outputs": [
    {
     "data": {
      "text/html": [
       "<div>\n",
       "<style scoped>\n",
       "    .dataframe tbody tr th:only-of-type {\n",
       "        vertical-align: middle;\n",
       "    }\n",
       "\n",
       "    .dataframe tbody tr th {\n",
       "        vertical-align: top;\n",
       "    }\n",
       "\n",
       "    .dataframe thead th {\n",
       "        text-align: right;\n",
       "    }\n",
       "</style>\n",
       "<table border=\"1\" class=\"dataframe\">\n",
       "  <thead>\n",
       "    <tr style=\"text-align: right;\">\n",
       "      <th>p</th>\n",
       "      <th>0.005</th>\n",
       "      <th>0.010</th>\n",
       "      <th>0.025</th>\n",
       "      <th>0.050</th>\n",
       "      <th>0.100</th>\n",
       "      <th>0.250</th>\n",
       "      <th>0.500</th>\n",
       "      <th>0.750</th>\n",
       "      <th>0.900</th>\n",
       "      <th>0.975</th>\n",
       "      <th>0.950</th>\n",
       "      <th>0.990</th>\n",
       "      <th>0.995</th>\n",
       "    </tr>\n",
       "    <tr>\n",
       "      <th>Graus de Liberdade</th>\n",
       "      <th></th>\n",
       "      <th></th>\n",
       "      <th></th>\n",
       "      <th></th>\n",
       "      <th></th>\n",
       "      <th></th>\n",
       "      <th></th>\n",
       "      <th></th>\n",
       "      <th></th>\n",
       "      <th></th>\n",
       "      <th></th>\n",
       "      <th></th>\n",
       "      <th></th>\n",
       "    </tr>\n",
       "  </thead>\n",
       "  <tbody>\n",
       "    <tr>\n",
       "      <th>1</th>\n",
       "      <td>0.0000</td>\n",
       "      <td>0.0002</td>\n",
       "      <td>0.0010</td>\n",
       "      <td>0.0039</td>\n",
       "      <td>0.0158</td>\n",
       "      <td>0.1015</td>\n",
       "      <td>0.4549</td>\n",
       "      <td>1.3233</td>\n",
       "      <td>2.7055</td>\n",
       "      <td>5.0239</td>\n",
       "      <td>3.8415</td>\n",
       "      <td>6.6349</td>\n",
       "      <td>7.8794</td>\n",
       "    </tr>\n",
       "    <tr>\n",
       "      <th>2</th>\n",
       "      <td>0.0100</td>\n",
       "      <td>0.0201</td>\n",
       "      <td>0.0506</td>\n",
       "      <td>0.1026</td>\n",
       "      <td>0.2107</td>\n",
       "      <td>0.5754</td>\n",
       "      <td>1.3863</td>\n",
       "      <td>2.7726</td>\n",
       "      <td>4.6052</td>\n",
       "      <td>7.3778</td>\n",
       "      <td>5.9915</td>\n",
       "      <td>9.2103</td>\n",
       "      <td>10.5966</td>\n",
       "    </tr>\n",
       "    <tr>\n",
       "      <th>3</th>\n",
       "      <td>0.0717</td>\n",
       "      <td>0.1148</td>\n",
       "      <td>0.2158</td>\n",
       "      <td>0.3518</td>\n",
       "      <td>0.5844</td>\n",
       "      <td>1.2125</td>\n",
       "      <td>2.3660</td>\n",
       "      <td>4.1083</td>\n",
       "      <td>6.2514</td>\n",
       "      <td>9.3484</td>\n",
       "      <td>7.8147</td>\n",
       "      <td>11.3449</td>\n",
       "      <td>12.8382</td>\n",
       "    </tr>\n",
       "    <tr>\n",
       "      <th>4</th>\n",
       "      <td>0.2070</td>\n",
       "      <td>0.2971</td>\n",
       "      <td>0.4844</td>\n",
       "      <td>0.7107</td>\n",
       "      <td>1.0636</td>\n",
       "      <td>1.9226</td>\n",
       "      <td>3.3567</td>\n",
       "      <td>5.3853</td>\n",
       "      <td>7.7794</td>\n",
       "      <td>11.1433</td>\n",
       "      <td>9.4877</td>\n",
       "      <td>13.2767</td>\n",
       "      <td>14.8603</td>\n",
       "    </tr>\n",
       "    <tr>\n",
       "      <th>5</th>\n",
       "      <td>0.4117</td>\n",
       "      <td>0.5543</td>\n",
       "      <td>0.8312</td>\n",
       "      <td>1.1455</td>\n",
       "      <td>1.6103</td>\n",
       "      <td>2.6746</td>\n",
       "      <td>4.3515</td>\n",
       "      <td>6.6257</td>\n",
       "      <td>9.2364</td>\n",
       "      <td>12.8325</td>\n",
       "      <td>11.0705</td>\n",
       "      <td>15.0863</td>\n",
       "      <td>16.7496</td>\n",
       "    </tr>\n",
       "    <tr>\n",
       "      <th>6</th>\n",
       "      <td>0.6757</td>\n",
       "      <td>0.8721</td>\n",
       "      <td>1.2373</td>\n",
       "      <td>1.6354</td>\n",
       "      <td>2.2041</td>\n",
       "      <td>3.4546</td>\n",
       "      <td>5.3481</td>\n",
       "      <td>7.8408</td>\n",
       "      <td>10.6446</td>\n",
       "      <td>14.4494</td>\n",
       "      <td>12.5916</td>\n",
       "      <td>16.8119</td>\n",
       "      <td>18.5476</td>\n",
       "    </tr>\n",
       "    <tr>\n",
       "      <th>7</th>\n",
       "      <td>0.9893</td>\n",
       "      <td>1.2390</td>\n",
       "      <td>1.6899</td>\n",
       "      <td>2.1673</td>\n",
       "      <td>2.8331</td>\n",
       "      <td>4.2549</td>\n",
       "      <td>6.3458</td>\n",
       "      <td>9.0371</td>\n",
       "      <td>12.0170</td>\n",
       "      <td>16.0128</td>\n",
       "      <td>14.0671</td>\n",
       "      <td>18.4753</td>\n",
       "      <td>20.2777</td>\n",
       "    </tr>\n",
       "    <tr>\n",
       "      <th>8</th>\n",
       "      <td>1.3444</td>\n",
       "      <td>1.6465</td>\n",
       "      <td>2.1797</td>\n",
       "      <td>2.7326</td>\n",
       "      <td>3.4895</td>\n",
       "      <td>5.0706</td>\n",
       "      <td>7.3441</td>\n",
       "      <td>10.2189</td>\n",
       "      <td>13.3616</td>\n",
       "      <td>17.5345</td>\n",
       "      <td>15.5073</td>\n",
       "      <td>20.0902</td>\n",
       "      <td>21.9550</td>\n",
       "    </tr>\n",
       "    <tr>\n",
       "      <th>9</th>\n",
       "      <td>1.7349</td>\n",
       "      <td>2.0879</td>\n",
       "      <td>2.7004</td>\n",
       "      <td>3.3251</td>\n",
       "      <td>4.1682</td>\n",
       "      <td>5.8988</td>\n",
       "      <td>8.3428</td>\n",
       "      <td>11.3888</td>\n",
       "      <td>14.6837</td>\n",
       "      <td>19.0228</td>\n",
       "      <td>16.9190</td>\n",
       "      <td>21.6660</td>\n",
       "      <td>23.5894</td>\n",
       "    </tr>\n",
       "    <tr>\n",
       "      <th>10</th>\n",
       "      <td>2.1559</td>\n",
       "      <td>2.5582</td>\n",
       "      <td>3.2470</td>\n",
       "      <td>3.9403</td>\n",
       "      <td>4.8652</td>\n",
       "      <td>6.7372</td>\n",
       "      <td>9.3418</td>\n",
       "      <td>12.5489</td>\n",
       "      <td>15.9872</td>\n",
       "      <td>20.4832</td>\n",
       "      <td>18.3070</td>\n",
       "      <td>23.2093</td>\n",
       "      <td>25.1882</td>\n",
       "    </tr>\n",
       "    <tr>\n",
       "      <th>11</th>\n",
       "      <td>2.6032</td>\n",
       "      <td>3.0535</td>\n",
       "      <td>3.8157</td>\n",
       "      <td>4.5748</td>\n",
       "      <td>5.5778</td>\n",
       "      <td>7.5841</td>\n",
       "      <td>10.3410</td>\n",
       "      <td>13.7007</td>\n",
       "      <td>17.2750</td>\n",
       "      <td>21.9200</td>\n",
       "      <td>19.6751</td>\n",
       "      <td>24.7250</td>\n",
       "      <td>26.7568</td>\n",
       "    </tr>\n",
       "    <tr>\n",
       "      <th>12</th>\n",
       "      <td>3.0738</td>\n",
       "      <td>3.5706</td>\n",
       "      <td>4.4038</td>\n",
       "      <td>5.2260</td>\n",
       "      <td>6.3038</td>\n",
       "      <td>8.4384</td>\n",
       "      <td>11.3403</td>\n",
       "      <td>14.8454</td>\n",
       "      <td>18.5493</td>\n",
       "      <td>23.3367</td>\n",
       "      <td>21.0261</td>\n",
       "      <td>26.2170</td>\n",
       "      <td>28.2995</td>\n",
       "    </tr>\n",
       "    <tr>\n",
       "      <th>13</th>\n",
       "      <td>3.5650</td>\n",
       "      <td>4.1069</td>\n",
       "      <td>5.0088</td>\n",
       "      <td>5.8919</td>\n",
       "      <td>7.0415</td>\n",
       "      <td>9.2991</td>\n",
       "      <td>12.3398</td>\n",
       "      <td>15.9839</td>\n",
       "      <td>19.8119</td>\n",
       "      <td>24.7356</td>\n",
       "      <td>22.3620</td>\n",
       "      <td>27.6882</td>\n",
       "      <td>29.8195</td>\n",
       "    </tr>\n",
       "    <tr>\n",
       "      <th>14</th>\n",
       "      <td>4.0747</td>\n",
       "      <td>4.6604</td>\n",
       "      <td>5.6287</td>\n",
       "      <td>6.5706</td>\n",
       "      <td>7.7895</td>\n",
       "      <td>10.1653</td>\n",
       "      <td>13.3393</td>\n",
       "      <td>17.1169</td>\n",
       "      <td>21.0641</td>\n",
       "      <td>26.1189</td>\n",
       "      <td>23.6848</td>\n",
       "      <td>29.1412</td>\n",
       "      <td>31.3193</td>\n",
       "    </tr>\n",
       "    <tr>\n",
       "      <th>15</th>\n",
       "      <td>4.6009</td>\n",
       "      <td>5.2293</td>\n",
       "      <td>6.2621</td>\n",
       "      <td>7.2609</td>\n",
       "      <td>8.5468</td>\n",
       "      <td>11.0365</td>\n",
       "      <td>14.3389</td>\n",
       "      <td>18.2451</td>\n",
       "      <td>22.3071</td>\n",
       "      <td>27.4884</td>\n",
       "      <td>24.9958</td>\n",
       "      <td>30.5779</td>\n",
       "      <td>32.8013</td>\n",
       "    </tr>\n",
       "    <tr>\n",
       "      <th>16</th>\n",
       "      <td>5.1422</td>\n",
       "      <td>5.8122</td>\n",
       "      <td>6.9077</td>\n",
       "      <td>7.9616</td>\n",
       "      <td>9.3122</td>\n",
       "      <td>11.9122</td>\n",
       "      <td>15.3385</td>\n",
       "      <td>19.3689</td>\n",
       "      <td>23.5418</td>\n",
       "      <td>28.8454</td>\n",
       "      <td>26.2962</td>\n",
       "      <td>31.9999</td>\n",
       "      <td>34.2672</td>\n",
       "    </tr>\n",
       "    <tr>\n",
       "      <th>17</th>\n",
       "      <td>5.6972</td>\n",
       "      <td>6.4078</td>\n",
       "      <td>7.5642</td>\n",
       "      <td>8.6718</td>\n",
       "      <td>10.0852</td>\n",
       "      <td>12.7919</td>\n",
       "      <td>16.3382</td>\n",
       "      <td>20.4887</td>\n",
       "      <td>24.7690</td>\n",
       "      <td>30.1910</td>\n",
       "      <td>27.5871</td>\n",
       "      <td>33.4087</td>\n",
       "      <td>35.7185</td>\n",
       "    </tr>\n",
       "    <tr>\n",
       "      <th>18</th>\n",
       "      <td>6.2648</td>\n",
       "      <td>7.0149</td>\n",
       "      <td>8.2307</td>\n",
       "      <td>9.3905</td>\n",
       "      <td>10.8649</td>\n",
       "      <td>13.6753</td>\n",
       "      <td>17.3379</td>\n",
       "      <td>21.6049</td>\n",
       "      <td>25.9894</td>\n",
       "      <td>31.5264</td>\n",
       "      <td>28.8693</td>\n",
       "      <td>34.8053</td>\n",
       "      <td>37.1565</td>\n",
       "    </tr>\n",
       "    <tr>\n",
       "      <th>19</th>\n",
       "      <td>6.8440</td>\n",
       "      <td>7.6327</td>\n",
       "      <td>8.9065</td>\n",
       "      <td>10.1170</td>\n",
       "      <td>11.6509</td>\n",
       "      <td>14.5620</td>\n",
       "      <td>18.3377</td>\n",
       "      <td>22.7178</td>\n",
       "      <td>27.2036</td>\n",
       "      <td>32.8523</td>\n",
       "      <td>30.1435</td>\n",
       "      <td>36.1909</td>\n",
       "      <td>38.5823</td>\n",
       "    </tr>\n",
       "    <tr>\n",
       "      <th>20</th>\n",
       "      <td>7.4338</td>\n",
       "      <td>8.2604</td>\n",
       "      <td>9.5908</td>\n",
       "      <td>10.8508</td>\n",
       "      <td>12.4426</td>\n",
       "      <td>15.4518</td>\n",
       "      <td>19.3374</td>\n",
       "      <td>23.8277</td>\n",
       "      <td>28.4120</td>\n",
       "      <td>34.1696</td>\n",
       "      <td>31.4104</td>\n",
       "      <td>37.5662</td>\n",
       "      <td>39.9968</td>\n",
       "    </tr>\n",
       "    <tr>\n",
       "      <th>21</th>\n",
       "      <td>8.0337</td>\n",
       "      <td>8.8972</td>\n",
       "      <td>10.2829</td>\n",
       "      <td>11.5913</td>\n",
       "      <td>13.2396</td>\n",
       "      <td>16.3444</td>\n",
       "      <td>20.3372</td>\n",
       "      <td>24.9348</td>\n",
       "      <td>29.6151</td>\n",
       "      <td>35.4789</td>\n",
       "      <td>32.6706</td>\n",
       "      <td>38.9322</td>\n",
       "      <td>41.4011</td>\n",
       "    </tr>\n",
       "    <tr>\n",
       "      <th>22</th>\n",
       "      <td>8.6427</td>\n",
       "      <td>9.5425</td>\n",
       "      <td>10.9823</td>\n",
       "      <td>12.3380</td>\n",
       "      <td>14.0415</td>\n",
       "      <td>17.2396</td>\n",
       "      <td>21.3370</td>\n",
       "      <td>26.0393</td>\n",
       "      <td>30.8133</td>\n",
       "      <td>36.7807</td>\n",
       "      <td>33.9244</td>\n",
       "      <td>40.2894</td>\n",
       "      <td>42.7957</td>\n",
       "    </tr>\n",
       "    <tr>\n",
       "      <th>23</th>\n",
       "      <td>9.2604</td>\n",
       "      <td>10.1957</td>\n",
       "      <td>11.6886</td>\n",
       "      <td>13.0905</td>\n",
       "      <td>14.8480</td>\n",
       "      <td>18.1373</td>\n",
       "      <td>22.3369</td>\n",
       "      <td>27.1413</td>\n",
       "      <td>32.0069</td>\n",
       "      <td>38.0756</td>\n",
       "      <td>35.1725</td>\n",
       "      <td>41.6384</td>\n",
       "      <td>44.1813</td>\n",
       "    </tr>\n",
       "    <tr>\n",
       "      <th>24</th>\n",
       "      <td>9.8862</td>\n",
       "      <td>10.8564</td>\n",
       "      <td>12.4012</td>\n",
       "      <td>13.8484</td>\n",
       "      <td>15.6587</td>\n",
       "      <td>19.0373</td>\n",
       "      <td>23.3367</td>\n",
       "      <td>28.2412</td>\n",
       "      <td>33.1962</td>\n",
       "      <td>39.3641</td>\n",
       "      <td>36.4150</td>\n",
       "      <td>42.9798</td>\n",
       "      <td>45.5585</td>\n",
       "    </tr>\n",
       "    <tr>\n",
       "      <th>25</th>\n",
       "      <td>10.5197</td>\n",
       "      <td>11.5240</td>\n",
       "      <td>13.1197</td>\n",
       "      <td>14.6114</td>\n",
       "      <td>16.4734</td>\n",
       "      <td>19.9393</td>\n",
       "      <td>24.3366</td>\n",
       "      <td>29.3389</td>\n",
       "      <td>34.3816</td>\n",
       "      <td>40.6465</td>\n",
       "      <td>37.6525</td>\n",
       "      <td>44.3141</td>\n",
       "      <td>46.9279</td>\n",
       "    </tr>\n",
       "    <tr>\n",
       "      <th>26</th>\n",
       "      <td>11.1602</td>\n",
       "      <td>12.1981</td>\n",
       "      <td>13.8439</td>\n",
       "      <td>15.3792</td>\n",
       "      <td>17.2919</td>\n",
       "      <td>20.8434</td>\n",
       "      <td>25.3365</td>\n",
       "      <td>30.4346</td>\n",
       "      <td>35.5632</td>\n",
       "      <td>41.9232</td>\n",
       "      <td>38.8851</td>\n",
       "      <td>45.6417</td>\n",
       "      <td>48.2899</td>\n",
       "    </tr>\n",
       "    <tr>\n",
       "      <th>27</th>\n",
       "      <td>11.8076</td>\n",
       "      <td>12.8785</td>\n",
       "      <td>14.5734</td>\n",
       "      <td>16.1514</td>\n",
       "      <td>18.1139</td>\n",
       "      <td>21.7494</td>\n",
       "      <td>26.3363</td>\n",
       "      <td>31.5284</td>\n",
       "      <td>36.7412</td>\n",
       "      <td>43.1945</td>\n",
       "      <td>40.1133</td>\n",
       "      <td>46.9629</td>\n",
       "      <td>49.6449</td>\n",
       "    </tr>\n",
       "    <tr>\n",
       "      <th>28</th>\n",
       "      <td>12.4613</td>\n",
       "      <td>13.5647</td>\n",
       "      <td>15.3079</td>\n",
       "      <td>16.9279</td>\n",
       "      <td>18.9392</td>\n",
       "      <td>22.6572</td>\n",
       "      <td>27.3362</td>\n",
       "      <td>32.6205</td>\n",
       "      <td>37.9159</td>\n",
       "      <td>44.4608</td>\n",
       "      <td>41.3371</td>\n",
       "      <td>48.2782</td>\n",
       "      <td>50.9934</td>\n",
       "    </tr>\n",
       "    <tr>\n",
       "      <th>29</th>\n",
       "      <td>13.1211</td>\n",
       "      <td>14.2565</td>\n",
       "      <td>16.0471</td>\n",
       "      <td>17.7084</td>\n",
       "      <td>19.7677</td>\n",
       "      <td>23.5666</td>\n",
       "      <td>28.3361</td>\n",
       "      <td>33.7109</td>\n",
       "      <td>39.0875</td>\n",
       "      <td>45.7223</td>\n",
       "      <td>42.5570</td>\n",
       "      <td>49.5879</td>\n",
       "      <td>52.3356</td>\n",
       "    </tr>\n",
       "    <tr>\n",
       "      <th>30</th>\n",
       "      <td>13.7867</td>\n",
       "      <td>14.9535</td>\n",
       "      <td>16.7908</td>\n",
       "      <td>18.4927</td>\n",
       "      <td>20.5992</td>\n",
       "      <td>24.4776</td>\n",
       "      <td>29.3360</td>\n",
       "      <td>34.7997</td>\n",
       "      <td>40.2560</td>\n",
       "      <td>46.9792</td>\n",
       "      <td>43.7730</td>\n",
       "      <td>50.8922</td>\n",
       "      <td>53.6720</td>\n",
       "    </tr>\n",
       "  </tbody>\n",
       "</table>\n",
       "</div>"
      ],
      "text/plain": [
       "p                     0.005    0.010    0.025    0.050    0.100    0.250  \\\n",
       "Graus de Liberdade                                                         \n",
       "1                    0.0000   0.0002   0.0010   0.0039   0.0158   0.1015   \n",
       "2                    0.0100   0.0201   0.0506   0.1026   0.2107   0.5754   \n",
       "3                    0.0717   0.1148   0.2158   0.3518   0.5844   1.2125   \n",
       "4                    0.2070   0.2971   0.4844   0.7107   1.0636   1.9226   \n",
       "5                    0.4117   0.5543   0.8312   1.1455   1.6103   2.6746   \n",
       "6                    0.6757   0.8721   1.2373   1.6354   2.2041   3.4546   \n",
       "7                    0.9893   1.2390   1.6899   2.1673   2.8331   4.2549   \n",
       "8                    1.3444   1.6465   2.1797   2.7326   3.4895   5.0706   \n",
       "9                    1.7349   2.0879   2.7004   3.3251   4.1682   5.8988   \n",
       "10                   2.1559   2.5582   3.2470   3.9403   4.8652   6.7372   \n",
       "11                   2.6032   3.0535   3.8157   4.5748   5.5778   7.5841   \n",
       "12                   3.0738   3.5706   4.4038   5.2260   6.3038   8.4384   \n",
       "13                   3.5650   4.1069   5.0088   5.8919   7.0415   9.2991   \n",
       "14                   4.0747   4.6604   5.6287   6.5706   7.7895  10.1653   \n",
       "15                   4.6009   5.2293   6.2621   7.2609   8.5468  11.0365   \n",
       "16                   5.1422   5.8122   6.9077   7.9616   9.3122  11.9122   \n",
       "17                   5.6972   6.4078   7.5642   8.6718  10.0852  12.7919   \n",
       "18                   6.2648   7.0149   8.2307   9.3905  10.8649  13.6753   \n",
       "19                   6.8440   7.6327   8.9065  10.1170  11.6509  14.5620   \n",
       "20                   7.4338   8.2604   9.5908  10.8508  12.4426  15.4518   \n",
       "21                   8.0337   8.8972  10.2829  11.5913  13.2396  16.3444   \n",
       "22                   8.6427   9.5425  10.9823  12.3380  14.0415  17.2396   \n",
       "23                   9.2604  10.1957  11.6886  13.0905  14.8480  18.1373   \n",
       "24                   9.8862  10.8564  12.4012  13.8484  15.6587  19.0373   \n",
       "25                  10.5197  11.5240  13.1197  14.6114  16.4734  19.9393   \n",
       "26                  11.1602  12.1981  13.8439  15.3792  17.2919  20.8434   \n",
       "27                  11.8076  12.8785  14.5734  16.1514  18.1139  21.7494   \n",
       "28                  12.4613  13.5647  15.3079  16.9279  18.9392  22.6572   \n",
       "29                  13.1211  14.2565  16.0471  17.7084  19.7677  23.5666   \n",
       "30                  13.7867  14.9535  16.7908  18.4927  20.5992  24.4776   \n",
       "\n",
       "p                     0.500    0.750    0.900    0.975    0.950    0.990  \\\n",
       "Graus de Liberdade                                                         \n",
       "1                    0.4549   1.3233   2.7055   5.0239   3.8415   6.6349   \n",
       "2                    1.3863   2.7726   4.6052   7.3778   5.9915   9.2103   \n",
       "3                    2.3660   4.1083   6.2514   9.3484   7.8147  11.3449   \n",
       "4                    3.3567   5.3853   7.7794  11.1433   9.4877  13.2767   \n",
       "5                    4.3515   6.6257   9.2364  12.8325  11.0705  15.0863   \n",
       "6                    5.3481   7.8408  10.6446  14.4494  12.5916  16.8119   \n",
       "7                    6.3458   9.0371  12.0170  16.0128  14.0671  18.4753   \n",
       "8                    7.3441  10.2189  13.3616  17.5345  15.5073  20.0902   \n",
       "9                    8.3428  11.3888  14.6837  19.0228  16.9190  21.6660   \n",
       "10                   9.3418  12.5489  15.9872  20.4832  18.3070  23.2093   \n",
       "11                  10.3410  13.7007  17.2750  21.9200  19.6751  24.7250   \n",
       "12                  11.3403  14.8454  18.5493  23.3367  21.0261  26.2170   \n",
       "13                  12.3398  15.9839  19.8119  24.7356  22.3620  27.6882   \n",
       "14                  13.3393  17.1169  21.0641  26.1189  23.6848  29.1412   \n",
       "15                  14.3389  18.2451  22.3071  27.4884  24.9958  30.5779   \n",
       "16                  15.3385  19.3689  23.5418  28.8454  26.2962  31.9999   \n",
       "17                  16.3382  20.4887  24.7690  30.1910  27.5871  33.4087   \n",
       "18                  17.3379  21.6049  25.9894  31.5264  28.8693  34.8053   \n",
       "19                  18.3377  22.7178  27.2036  32.8523  30.1435  36.1909   \n",
       "20                  19.3374  23.8277  28.4120  34.1696  31.4104  37.5662   \n",
       "21                  20.3372  24.9348  29.6151  35.4789  32.6706  38.9322   \n",
       "22                  21.3370  26.0393  30.8133  36.7807  33.9244  40.2894   \n",
       "23                  22.3369  27.1413  32.0069  38.0756  35.1725  41.6384   \n",
       "24                  23.3367  28.2412  33.1962  39.3641  36.4150  42.9798   \n",
       "25                  24.3366  29.3389  34.3816  40.6465  37.6525  44.3141   \n",
       "26                  25.3365  30.4346  35.5632  41.9232  38.8851  45.6417   \n",
       "27                  26.3363  31.5284  36.7412  43.1945  40.1133  46.9629   \n",
       "28                  27.3362  32.6205  37.9159  44.4608  41.3371  48.2782   \n",
       "29                  28.3361  33.7109  39.0875  45.7223  42.5570  49.5879   \n",
       "30                  29.3360  34.7997  40.2560  46.9792  43.7730  50.8922   \n",
       "\n",
       "p                     0.995  \n",
       "Graus de Liberdade           \n",
       "1                    7.8794  \n",
       "2                   10.5966  \n",
       "3                   12.8382  \n",
       "4                   14.8603  \n",
       "5                   16.7496  \n",
       "6                   18.5476  \n",
       "7                   20.2777  \n",
       "8                   21.9550  \n",
       "9                   23.5894  \n",
       "10                  25.1882  \n",
       "11                  26.7568  \n",
       "12                  28.2995  \n",
       "13                  29.8195  \n",
       "14                  31.3193  \n",
       "15                  32.8013  \n",
       "16                  34.2672  \n",
       "17                  35.7185  \n",
       "18                  37.1565  \n",
       "19                  38.5823  \n",
       "20                  39.9968  \n",
       "21                  41.4011  \n",
       "22                  42.7957  \n",
       "23                  44.1813  \n",
       "24                  45.5585  \n",
       "25                  46.9279  \n",
       "26                  48.2899  \n",
       "27                  49.6449  \n",
       "28                  50.9934  \n",
       "29                  52.3356  \n",
       "30                  53.6720  "
      ]
     },
     "execution_count": 1,
     "metadata": {},
     "output_type": "execute_result"
    }
   ],
   "source": [
    "import pandas as pd\n",
    "from scipy.stats import chi\n",
    "\n",
    "tabela_t_chi_2 = pd.DataFrame(\n",
    "    [], \n",
    "    index=[i for i in range(1, 31)],\n",
    "    columns = [0.005, 0.01, 0.025, 0.05, 0.1, 0.25, 0.5, 0.75, 0.9, 0.975, 0.95, 0.99, 0.995]\n",
    ")\n",
    "\n",
    "for index in tabela_t_chi_2.index:\n",
    "    for column in tabela_t_chi_2.columns:\n",
    "        tabela_t_chi_2.loc[index, column] = \"{0:0.4f}\".format(chi.ppf(float(column), index)**2)\n",
    "\n",
    "tabela_t_chi_2.index.name='Graus de Liberdade'\n",
    "tabela_t_chi_2.rename_axis(['p'], axis=1, inplace = True)\n",
    "\n",
    "tabela_t_chi_2\n"
   ]
  },
  {
   "cell_type": "markdown",
   "metadata": {
    "colab_type": "text",
    "id": "UkzhYAPDpsl_"
   },
   "source": [
    "<img src='https://caelum-online-public.s3.amazonaws.com/1229-estatistica-parte3/01/img016.png' width='250px'>\n",
    "\n",
    "Tabela com os valores de $\\chi_p^2$ em função dos graus de liberdade $(n - 1)$ e de $p = P(\\chi^2 \\leq \\chi_p^2)$"
   ]
  },
  {
   "cell_type": "markdown",
   "metadata": {
    "colab_type": "text",
    "id": "cCPOqVFKpsl_"
   },
   "source": [
    "## <font color='red'>Problema</font>"
   ]
  },
  {
   "cell_type": "markdown",
   "metadata": {
    "colab_type": "text",
    "id": "GTq1wpkbpsl_"
   },
   "source": [
    "Antes de cada partida do campeonato nacional de futebol, as moedas utilizadas pelos árbitros devem ser verificadas para se ter certeza de que não são viciadas, ou seja, que não tendam para determinado resultado. Para isso um teste simples deve ser realizado antes de cada partida. Este teste consiste em lançar a moeda do jogo **50 vezes** e contar as frequências de **CARAS** e **COROAS** obtidas. A tabela abaixo mostra o resultado obtido no experimento:\n",
    "\n",
    "||CARA|COROA|\n",
    "|-|-|-|\n",
    "|Observado|17|33|\n",
    "|Esperado|25|25|\n",
    "\n",
    "A um **nível de significância de 5%**, é possível afirmar que a moeda não é honesta, isto é, que a moeda apresenta uma probabilidade maior de cair com a face **CARA** voltada para cima?"
   ]
  },
  {
   "cell_type": "markdown",
   "metadata": {
    "colab_type": "text",
    "id": "CSlCI1wUpsl_"
   },
   "source": [
    "---"
   ]
  },
  {
   "cell_type": "markdown",
   "metadata": {
    "colab_type": "text",
    "id": "Op26YDWnpsmA"
   },
   "source": [
    "### Dados do problema"
   ]
  },
  {
   "cell_type": "code",
   "execution_count": 2,
   "metadata": {
    "colab": {},
    "colab_type": "code",
    "id": "p5iOqxk2psmA"
   },
   "outputs": [],
   "source": [
    "F_Observada = [17, 33]\n",
    "F_Esperada = [25, 25]\n",
    "significancia = 0.05\n",
    "confianca = 1 - significancia\n",
    "k = 2 #número de eventos possíveis - k equivale ao n\n",
    "graus_de_liberdade = k - 1"
   ]
  },
  {
   "cell_type": "markdown",
   "metadata": {
    "colab_type": "text",
    "id": "w6A74pM-psmB"
   },
   "source": [
    "### **Passo 1** - formulação das hipóteses $H_0$ e $H_1$\n",
    "\n",
    "#### <font color='red'>Lembre-se, a hipótese nula sempre contém a alegação de igualdade</font>"
   ]
  },
  {
   "cell_type": "markdown",
   "metadata": {
    "colab_type": "text",
    "id": "zA4AD5_8psmB"
   },
   "source": [
    "### $H_0: F_{CARA} = F_{COROA}$\n",
    "\n",
    "### $H_1: F_{CARA} \\neq F_{COROA}$"
   ]
  },
  {
   "cell_type": "markdown",
   "metadata": {
    "colab_type": "text",
    "id": "rUtuw6_bpsmB"
   },
   "source": [
    "---"
   ]
  },
  {
   "cell_type": "markdown",
   "metadata": {
    "colab_type": "text",
    "id": "Zi2oE6ZbpsmB"
   },
   "source": [
    "### **Passo 2** - fixação da significância do teste ($\\alpha$)"
   ]
  },
  {
   "cell_type": "markdown",
   "metadata": {
    "colab_type": "text",
    "id": "cCL8Wyy7psmC"
   },
   "source": [
    "https://docs.scipy.org/doc/scipy/reference/generated/scipy.stats.chi.html"
   ]
  },
  {
   "cell_type": "code",
   "execution_count": 3,
   "metadata": {
    "colab": {},
    "colab_type": "code",
    "id": "5bF7GEd-psmD"
   },
   "outputs": [],
   "source": [
    "from scipy.stats import chi"
   ]
  },
  {
   "cell_type": "code",
   "execution_count": 4,
   "metadata": {
    "colab": {
     "base_uri": "https://localhost:8080/",
     "height": 210
    },
    "colab_type": "code",
    "id": "WRsJSXxGpsmE",
    "outputId": "106db812-4580-4e1f-e7d3-5070da776d1f",
    "scrolled": true
   },
   "outputs": [
    {
     "data": {
      "text/html": [
       "<div>\n",
       "<style scoped>\n",
       "    .dataframe tbody tr th:only-of-type {\n",
       "        vertical-align: middle;\n",
       "    }\n",
       "\n",
       "    .dataframe tbody tr th {\n",
       "        vertical-align: top;\n",
       "    }\n",
       "\n",
       "    .dataframe thead th {\n",
       "        text-align: right;\n",
       "    }\n",
       "</style>\n",
       "<table border=\"1\" class=\"dataframe\">\n",
       "  <thead>\n",
       "    <tr style=\"text-align: right;\">\n",
       "      <th>p</th>\n",
       "      <th>0.005</th>\n",
       "      <th>0.010</th>\n",
       "      <th>0.025</th>\n",
       "      <th>0.050</th>\n",
       "      <th>0.100</th>\n",
       "      <th>0.250</th>\n",
       "      <th>0.500</th>\n",
       "      <th>0.750</th>\n",
       "      <th>0.900</th>\n",
       "      <th>0.975</th>\n",
       "      <th>0.950</th>\n",
       "      <th>0.990</th>\n",
       "      <th>0.995</th>\n",
       "    </tr>\n",
       "    <tr>\n",
       "      <th>Graus de Liberdade</th>\n",
       "      <th></th>\n",
       "      <th></th>\n",
       "      <th></th>\n",
       "      <th></th>\n",
       "      <th></th>\n",
       "      <th></th>\n",
       "      <th></th>\n",
       "      <th></th>\n",
       "      <th></th>\n",
       "      <th></th>\n",
       "      <th></th>\n",
       "      <th></th>\n",
       "      <th></th>\n",
       "    </tr>\n",
       "  </thead>\n",
       "  <tbody>\n",
       "    <tr>\n",
       "      <th>1</th>\n",
       "      <td>0.0000</td>\n",
       "      <td>0.0002</td>\n",
       "      <td>0.0010</td>\n",
       "      <td>0.0039</td>\n",
       "      <td>0.0158</td>\n",
       "      <td>0.1015</td>\n",
       "      <td>0.4549</td>\n",
       "      <td>1.3233</td>\n",
       "      <td>2.7055</td>\n",
       "      <td>5.0239</td>\n",
       "      <td>3.8415</td>\n",
       "      <td>6.6349</td>\n",
       "      <td>7.8794</td>\n",
       "    </tr>\n",
       "    <tr>\n",
       "      <th>2</th>\n",
       "      <td>0.0100</td>\n",
       "      <td>0.0201</td>\n",
       "      <td>0.0506</td>\n",
       "      <td>0.1026</td>\n",
       "      <td>0.2107</td>\n",
       "      <td>0.5754</td>\n",
       "      <td>1.3863</td>\n",
       "      <td>2.7726</td>\n",
       "      <td>4.6052</td>\n",
       "      <td>7.3778</td>\n",
       "      <td>5.9915</td>\n",
       "      <td>9.2103</td>\n",
       "      <td>10.5966</td>\n",
       "    </tr>\n",
       "    <tr>\n",
       "      <th>3</th>\n",
       "      <td>0.0717</td>\n",
       "      <td>0.1148</td>\n",
       "      <td>0.2158</td>\n",
       "      <td>0.3518</td>\n",
       "      <td>0.5844</td>\n",
       "      <td>1.2125</td>\n",
       "      <td>2.3660</td>\n",
       "      <td>4.1083</td>\n",
       "      <td>6.2514</td>\n",
       "      <td>9.3484</td>\n",
       "      <td>7.8147</td>\n",
       "      <td>11.3449</td>\n",
       "      <td>12.8382</td>\n",
       "    </tr>\n",
       "  </tbody>\n",
       "</table>\n",
       "</div>"
      ],
      "text/plain": [
       "p                    0.005   0.010   0.025   0.050   0.100   0.250   0.500  \\\n",
       "Graus de Liberdade                                                           \n",
       "1                   0.0000  0.0002  0.0010  0.0039  0.0158  0.1015  0.4549   \n",
       "2                   0.0100  0.0201  0.0506  0.1026  0.2107  0.5754  1.3863   \n",
       "3                   0.0717  0.1148  0.2158  0.3518  0.5844  1.2125  2.3660   \n",
       "\n",
       "p                    0.750   0.900   0.975   0.950    0.990    0.995  \n",
       "Graus de Liberdade                                                    \n",
       "1                   1.3233  2.7055  5.0239  3.8415   6.6349   7.8794  \n",
       "2                   2.7726  4.6052  7.3778  5.9915   9.2103  10.5966  \n",
       "3                   4.1083  6.2514  9.3484  7.8147  11.3449  12.8382  "
      ]
     },
     "execution_count": 4,
     "metadata": {},
     "output_type": "execute_result"
    }
   ],
   "source": [
    "tabela_t_chi_2[:3]"
   ]
  },
  {
   "cell_type": "markdown",
   "metadata": {
    "colab_type": "text",
    "id": "0RRjHQm7psmF"
   },
   "source": [
    "### Obtendo $\\chi_{\\alpha}^2$"
   ]
  },
  {
   "cell_type": "code",
   "execution_count": 5,
   "metadata": {
    "colab": {
     "base_uri": "https://localhost:8080/",
     "height": 35
    },
    "colab_type": "code",
    "id": "6rXyih-lpsmH",
    "outputId": "a0445581-6d51-4a7d-f8c1-c5dbaf41c58c"
   },
   "outputs": [
    {
     "data": {
      "text/plain": [
       "3.8414588206941245"
      ]
     },
     "execution_count": 5,
     "metadata": {},
     "output_type": "execute_result"
    }
   ],
   "source": [
    "# Achado o valor do chi² quando não temos uma tabela\n",
    "chi_2_alpha = chi.ppf(confianca, graus_de_liberdade) ** 2\n",
    "chi_2_alpha\n",
    "# Chegamso ao mesmo valor da tabela 3,84"
   ]
  },
  {
   "cell_type": "markdown",
   "metadata": {
    "colab_type": "text",
    "id": "aHxm3ZCupsmJ"
   },
   "source": [
    "![Região de Aceitação](https://caelum-online-public.s3.amazonaws.com/1229-estatistica-parte3/01/img018.png)"
   ]
  },
  {
   "cell_type": "markdown",
   "metadata": {
    "colab_type": "text",
    "id": "FxLr2OnDpsmJ"
   },
   "source": [
    "---"
   ]
  },
  {
   "cell_type": "markdown",
   "metadata": {
    "colab_type": "text",
    "id": "JcUvBM5OpsmJ"
   },
   "source": [
    "### **Passo 3** - cálculo da estatística-teste e verificação desse valor com as áreas de aceitação e rejeição do teste\n",
    "\n",
    "# $$\\chi^2 = \\sum_{i=1}^{k}{\\frac{(F_{i}^{Obs} - F_{i}^{Esp})^2}{F_{i}^{Esp}}}$$\n",
    "\n",
    "Onde\n",
    "\n",
    "$F_{i}^{Obs}$ = frequência observada para o evento $i$\n",
    "\n",
    "$F_{i}^{Esp}$ = frequência esperada para o evento $i$\n",
    "\n",
    "$k$ = total de eventos possíveis"
   ]
  },
  {
   "cell_type": "code",
   "execution_count": 6,
   "metadata": {
    "colab": {
     "base_uri": "https://localhost:8080/",
     "height": 35
    },
    "colab_type": "code",
    "id": "2b32Y6HiuT-u",
    "outputId": "785b6961-162e-4672-9a71-2110af6ed3f4"
   },
   "outputs": [
    {
     "data": {
      "text/plain": [
       "5.12"
      ]
     },
     "execution_count": 6,
     "metadata": {},
     "output_type": "execute_result"
    }
   ],
   "source": [
    "chi_2 = ((F_Observada[0] - F_Esperada[0]) ** 2 / F_Esperada[0]) + ((F_Observada[1] - F_Esperada[1]) ** 2 / F_Esperada[1])\n",
    "chi_2"
   ]
  },
  {
   "cell_type": "code",
   "execution_count": 7,
   "metadata": {
    "colab": {
     "base_uri": "https://localhost:8080/",
     "height": 35
    },
    "colab_type": "code",
    "id": "7eL97ts8psmJ",
    "outputId": "7667b7de-8e7b-46df-fe08-d84eecac6c83"
   },
   "outputs": [
    {
     "data": {
      "text/plain": [
       "5.12"
      ]
     },
     "execution_count": 7,
     "metadata": {},
     "output_type": "execute_result"
    }
   ],
   "source": [
    "# Calculando o chi² de outra forma\n",
    "chi_2 = 0\n",
    "for i in range(k):\n",
    "    chi_2 += (F_Observada[i] - F_Esperada[i]) ** 2 / F_Esperada[i]\n",
    "\n",
    "chi_2"
   ]
  },
  {
   "cell_type": "markdown",
   "metadata": {
    "colab_type": "text",
    "id": "gdwiYn6ZpsmK"
   },
   "source": [
    "![Estatística-Teste](https://caelum-online-public.s3.amazonaws.com/1229-estatistica-parte3/01/img019.png)"
   ]
  },
  {
   "cell_type": "markdown",
   "metadata": {
    "colab_type": "text",
    "id": "7v6msKABpsmK"
   },
   "source": [
    "---"
   ]
  },
  {
   "cell_type": "markdown",
   "metadata": {
    "colab_type": "text",
    "id": "PHLhbZ3IpsmK"
   },
   "source": [
    "### **Passo 4** - Aceitação ou rejeição da hipótese nula"
   ]
  },
  {
   "cell_type": "markdown",
   "metadata": {
    "colab_type": "text",
    "id": "tiQ0gAMGpsmL"
   },
   "source": [
    "<img src='https://caelum-online-public.s3.amazonaws.com/1229-estatistica-parte3/01/img020.png' width=80%>"
   ]
  },
  {
   "cell_type": "markdown",
   "metadata": {
    "colab_type": "text",
    "id": "lhFLib7-psmM"
   },
   "source": [
    "### <font color='red'>Critério do valor crítico</font>\n",
    "\n",
    "> ### Rejeitar $H_0$ se $\\chi_{teste}^2 > \\chi_{\\alpha}^2$"
   ]
  },
  {
   "cell_type": "code",
   "execution_count": 8,
   "metadata": {
    "colab": {
     "base_uri": "https://localhost:8080/",
     "height": 35
    },
    "colab_type": "code",
    "id": "HSOhw7E7psmM",
    "outputId": "1b6ce243-ae51-4497-addd-3e7aae82f4f3"
   },
   "outputs": [
    {
     "data": {
      "text/plain": [
       "True"
      ]
     },
     "execution_count": 8,
     "metadata": {},
     "output_type": "execute_result"
    }
   ],
   "source": [
    "chi_2 > chi_2_alpha"
   ]
  },
  {
   "cell_type": "markdown",
   "metadata": {
    "colab_type": "text",
    "id": "hvHTGAOepsmN"
   },
   "source": [
    "### <font color='green'>Conclusão: Com um nível de confiança de 95% rejeitamos a hipótese nula ($H_0$) e concluímos que as frequências observadas e esperadas são discrepantes, ou seja, a moeda não é honesta e precisa ser substituída.</font>"
   ]
  },
  {
   "cell_type": "markdown",
   "metadata": {
    "colab_type": "text",
    "id": "VcqxUxnopsmN"
   },
   "source": [
    "### <font color='red'>Critério do valor $p$</font>\n",
    "\n",
    "> ### Rejeitar $H_0$ se o valor $p\\leq\\alpha$"
   ]
  },
  {
   "cell_type": "code",
   "execution_count": 11,
   "metadata": {},
   "outputs": [],
   "source": [
    "import numpy as np"
   ]
  },
  {
   "cell_type": "code",
   "execution_count": 9,
   "metadata": {
    "colab": {
     "base_uri": "https://localhost:8080/",
     "height": 35
    },
    "colab_type": "code",
    "id": "fP8w-6MZpsmO",
    "outputId": "0cc2f80a-ab46-4485-b7da-f07a9a7085a9"
   },
   "outputs": [
    {
     "data": {
      "text/plain": [
       "5.12"
      ]
     },
     "execution_count": 9,
     "metadata": {},
     "output_type": "execute_result"
    }
   ],
   "source": [
    "chi_2"
   ]
  },
  {
   "cell_type": "code",
   "execution_count": 14,
   "metadata": {
    "colab": {
     "base_uri": "https://localhost:8080/",
     "height": 35
    },
    "colab_type": "code",
    "id": "LWCqrM2rpsmP",
    "outputId": "9a9ff1a3-5553-40de-9863-ef8d68e03fff"
   },
   "outputs": [
    {
     "data": {
      "text/plain": [
       "2.262741699796952"
      ]
     },
     "execution_count": 14,
     "metadata": {},
     "output_type": "execute_result"
    }
   ],
   "source": [
    "raiz_chi_2 = np.sqrt(chi_2)\n",
    "raiz_chi_2"
   ]
  },
  {
   "cell_type": "code",
   "execution_count": 15,
   "metadata": {
    "colab": {
     "base_uri": "https://localhost:8080/",
     "height": 35
    },
    "colab_type": "code",
    "id": "uFG6yszWpsmQ",
    "outputId": "c2a489ef-2734-49f1-f96a-3239464d4baf"
   },
   "outputs": [
    {
     "data": {
      "text/plain": [
       "0.023651616655356"
      ]
     },
     "execution_count": 15,
     "metadata": {},
     "output_type": "execute_result"
    }
   ],
   "source": [
    "# P-Valo menor do que 0,05 rejeita-se a hipótese nula\n",
    "p_valor = chi.sf(raiz_chi_2, df=1)\n",
    "p_valor"
   ]
  },
  {
   "cell_type": "markdown",
   "metadata": {
    "colab_type": "text",
    "id": "WpvavOAVpsmR"
   },
   "source": [
    "https://docs.scipy.org/doc/scipy/reference/generated/scipy.stats.chisquare.html"
   ]
  },
  {
   "cell_type": "code",
   "execution_count": 18,
   "metadata": {
    "colab": {},
    "colab_type": "code",
    "id": "Jc1RkAn6psmR"
   },
   "outputs": [],
   "source": [
    "# Oura forma de realizar o teste o CHI² em python\n",
    "from scipy.stats import chisquare"
   ]
  },
  {
   "cell_type": "code",
   "execution_count": 21,
   "metadata": {
    "colab": {
     "base_uri": "https://localhost:8080/",
     "height": 53
    },
    "colab_type": "code",
    "id": "jjiIlObspsmR",
    "outputId": "33e36135-64d4-4615-d273-0ecb4ed993b4"
   },
   "outputs": [
    {
     "data": {
      "text/plain": [
       "Power_divergenceResult(statistic=5.12, pvalue=0.023651616655356)"
      ]
     },
     "execution_count": 21,
     "metadata": {},
     "output_type": "execute_result"
    }
   ],
   "source": [
    "# Com apenas uma linha de comando emos o valor do chi² e do p-valor\n",
    "chisquare(f_obs = F_Observada, f_exp = F_Esperada)"
   ]
  },
  {
   "cell_type": "code",
   "execution_count": 17,
   "metadata": {
    "colab": {
     "base_uri": "https://localhost:8080/",
     "height": 35
    },
    "colab_type": "code",
    "id": "reKBubKWpsmT",
    "outputId": "69394a7b-9acb-4ce2-fea4-f51a05c9b39f"
   },
   "outputs": [
    {
     "data": {
      "text/plain": [
       "True"
      ]
     },
     "execution_count": 17,
     "metadata": {},
     "output_type": "execute_result"
    }
   ],
   "source": [
    "p_valor <= significancia"
   ]
  },
  {
   "cell_type": "markdown",
   "metadata": {},
   "source": [
    "#### Exercício\n",
    "\n",
    "A realização de um teste não paramétrico Qui-quadrado, com apenas 5 graus de liberdade, obteve-se a estatística de teste no valor de 7,45.\n",
    "\n",
    "Qual seria o p-valor para este teste?\n"
   ]
  },
  {
   "cell_type": "code",
   "execution_count": 22,
   "metadata": {},
   "outputs": [
    {
     "name": "stdout",
     "output_type": "stream",
     "text": [
      "O valor de CHI é igual a: 2.7294688127912363\n",
      "O valor de p-valor é igual a: 0.18926579121171602\n"
     ]
    }
   ],
   "source": [
    "chi_2 = 7.45\n",
    "graus_de_liberdade = 5\n",
    "raiz_chi_2 = np.sqrt(chi_2)\n",
    "print(f'O valor de CHI é igual a: {raiz_chi_2}')\n",
    "\n",
    "p_valor = chi.sf(raiz_chi_2, df=graus_de_liberdade)\n",
    "print(f'O valor de p-valor é igual a: {p_valor}')"
   ]
  },
  {
   "cell_type": "markdown",
   "metadata": {
    "colab_type": "text",
    "id": "WlHU5fNNpsmU"
   },
   "source": [
    "---"
   ]
  },
  {
   "cell_type": "markdown",
   "metadata": {
    "colab_type": "text",
    "id": "PUXdBJ9FpsmU"
   },
   "source": [
    "## <font color='red'>Problema</font>"
   ]
  },
  {
   "cell_type": "markdown",
   "metadata": {
    "colab_type": "text",
    "id": "DXvJ2JnKpsmU"
   },
   "source": [
    "Um novo tratamento para acabar com o hábito de fumar está sendo empregado em um grupo de **35 pacientes** voluntários. De cada paciente testado foram obtidas as informações de quantidades de cigarros consumidos por dia antes e depois do término do tratamento. Assumindo um **nível de confiança de 95%** é possível concluir que, depois da aplicação do novo tratamento, houve uma mudança no hábito de fumar do grupo de pacientes testado?"
   ]
  },
  {
   "cell_type": "markdown",
   "metadata": {
    "colab_type": "text",
    "id": "BqE_PN7IpsmU"
   },
   "source": [
    "## <font color=green>4.2 Teste Wilcoxon</font>\n",
    "### Comparação de duas populações - amostras dependentes\n",
    "***"
   ]
  },
  {
   "cell_type": "markdown",
   "metadata": {
    "colab_type": "text",
    "id": "1MxFBYB-psmU"
   },
   "source": [
    "Empregado quando se deseja comparar duas amostras relacionadas, amostras emparelhadas. Pode ser aplicado quando se deseja testar a diferença de duas condições, isto é, quando um mesmo elemento é submetido a duas medidas."
   ]
  },
  {
   "cell_type": "markdown",
   "metadata": {
    "colab_type": "text",
    "id": "3H67Y7P7psmV"
   },
   "source": [
    "### Dados do problema"
   ]
  },
  {
   "cell_type": "code",
   "execution_count": null,
   "metadata": {
    "colab": {},
    "colab_type": "code",
    "id": "JBh5-HrnpsmV"
   },
   "outputs": [],
   "source": []
  },
  {
   "cell_type": "code",
   "execution_count": null,
   "metadata": {
    "colab": {
     "base_uri": "https://localhost:8080/",
     "height": 204
    },
    "colab_type": "code",
    "id": "AfEGWBp1psmW",
    "outputId": "b68e51d1-b307-432f-8658-4642285f3725",
    "scrolled": true
   },
   "outputs": [],
   "source": []
  },
  {
   "cell_type": "code",
   "execution_count": null,
   "metadata": {
    "colab": {
     "base_uri": "https://localhost:8080/",
     "height": 35
    },
    "colab_type": "code",
    "id": "oNQvLLR8psmX",
    "outputId": "434a1498-67cb-47fd-b87a-f68bd05a923d"
   },
   "outputs": [],
   "source": []
  },
  {
   "cell_type": "code",
   "execution_count": null,
   "metadata": {
    "colab": {
     "base_uri": "https://localhost:8080/",
     "height": 35
    },
    "colab_type": "code",
    "id": "wOgIYP0upsmZ",
    "outputId": "926b067c-2ea2-407b-edba-c57075fa5c94"
   },
   "outputs": [],
   "source": []
  },
  {
   "cell_type": "markdown",
   "metadata": {
    "colab_type": "text",
    "id": "gvnOmelVpsma"
   },
   "source": [
    "### **Passo 1** - formulação das hipóteses $H_0$ e $H_1$\n",
    "\n",
    "#### <font color='red'>Lembre-se, a hipótese nula sempre contém a alegação de igualdade</font>"
   ]
  },
  {
   "cell_type": "markdown",
   "metadata": {
    "colab_type": "text",
    "id": "1AXOiD_epsma"
   },
   "source": [
    "### $H_0: \\mu_{antes} = \\mu_{depois}$\n",
    "\n",
    "### $H_1: \\mu_{antes} > \\mu_{depois}$"
   ]
  },
  {
   "cell_type": "markdown",
   "metadata": {
    "colab_type": "text",
    "id": "degUD6b2psmb"
   },
   "source": [
    "---"
   ]
  },
  {
   "cell_type": "markdown",
   "metadata": {
    "colab_type": "text",
    "id": "3jrV_c2Opsmb"
   },
   "source": [
    "### **Passo 2** - escolha da distribuição amostral adequada"
   ]
  },
  {
   "cell_type": "markdown",
   "metadata": {
    "colab_type": "text",
    "id": "vF-9xAPzpsmc"
   },
   "source": [
    "### O tamanho da amostra é maior que 20?\n",
    "#### Resp.: Sim"
   ]
  },
  {
   "cell_type": "markdown",
   "metadata": {
    "colab_type": "text",
    "id": "tvxXutrGpsmc"
   },
   "source": [
    "---"
   ]
  },
  {
   "cell_type": "markdown",
   "metadata": {
    "colab_type": "text",
    "id": "aihd76Wkpsmc"
   },
   "source": [
    "### **Passo 3** - fixação da significância do teste ($\\alpha$)"
   ]
  },
  {
   "cell_type": "markdown",
   "metadata": {
    "colab_type": "text",
    "id": "XF6AA8qLpsmc"
   },
   "source": [
    "### Obtendo $z_{\\alpha/2}$"
   ]
  },
  {
   "cell_type": "code",
   "execution_count": null,
   "metadata": {
    "colab": {
     "base_uri": "https://localhost:8080/",
     "height": 35
    },
    "colab_type": "code",
    "id": "UsRrnCnXpsmd",
    "outputId": "969dfd46-755b-496b-b84a-1d3e9d565ed2"
   },
   "outputs": [],
   "source": []
  },
  {
   "cell_type": "code",
   "execution_count": null,
   "metadata": {
    "colab": {
     "base_uri": "https://localhost:8080/",
     "height": 35
    },
    "colab_type": "code",
    "id": "PTmwCAq9psme",
    "outputId": "a7cf10d8-f3c7-40cf-c2f4-9fef0ac65f26"
   },
   "outputs": [],
   "source": []
  },
  {
   "cell_type": "markdown",
   "metadata": {
    "colab_type": "text",
    "id": "S2dqQHQJpsmf"
   },
   "source": [
    "![Região de Aceitação](https://caelum-online-public.s3.amazonaws.com/1229-estatistica-parte3/01/img006.png)"
   ]
  },
  {
   "cell_type": "markdown",
   "metadata": {
    "colab_type": "text",
    "id": "z0iEZ685psmf"
   },
   "source": [
    "---"
   ]
  },
  {
   "cell_type": "markdown",
   "metadata": {
    "colab_type": "text",
    "id": "zpYLf-dZpsmg"
   },
   "source": [
    "### **Passo 4** - cálculo da estatística-teste e verificação desse valor com as áreas de aceitação e rejeição do teste\n",
    "\n",
    "# $$Z = \\frac{T - \\mu_T}{\\sigma_T}$$\n",
    "\n",
    "Onde\n",
    "\n",
    "## $T$ = menor das somas de postos de mesmo sinal\n",
    "\n",
    "# $$\\mu_T = \\frac{n(n+1)}{4}$$\n",
    "# $$\\sigma_T = \\sqrt{\\frac{n(n + 1)(2n + 1)}{24}}$$"
   ]
  },
  {
   "cell_type": "markdown",
   "metadata": {
    "colab_type": "text",
    "id": "ZTY9IuIIpsmg"
   },
   "source": [
    "### Construindo a tabela com os postos"
   ]
  },
  {
   "cell_type": "code",
   "execution_count": null,
   "metadata": {
    "colab": {
     "base_uri": "https://localhost:8080/",
     "height": 1134
    },
    "colab_type": "code",
    "id": "o0fp6m3iqIlu",
    "outputId": "af1f1a0d-c2e7-478c-b637-71a520cc9a2c"
   },
   "outputs": [],
   "source": []
  },
  {
   "cell_type": "code",
   "execution_count": null,
   "metadata": {
    "colab": {
     "base_uri": "https://localhost:8080/",
     "height": 1134
    },
    "colab_type": "code",
    "id": "T4KmZijZotWj",
    "outputId": "97779ef9-8387-43d3-c41a-76b01cc7d52c"
   },
   "outputs": [],
   "source": []
  },
  {
   "cell_type": "code",
   "execution_count": null,
   "metadata": {
    "colab": {
     "base_uri": "https://localhost:8080/",
     "height": 1134
    },
    "colab_type": "code",
    "id": "c4fvYVrdotTL",
    "outputId": "a0da369c-d29f-40c1-e8e6-ff715c14e3e3"
   },
   "outputs": [],
   "source": []
  },
  {
   "cell_type": "code",
   "execution_count": null,
   "metadata": {
    "colab": {
     "base_uri": "https://localhost:8080/",
     "height": 1134
    },
    "colab_type": "code",
    "id": "hwqK3Uu7otP7",
    "outputId": "dd57a7c5-e2f2-45af-fea1-8c9e765123ec"
   },
   "outputs": [],
   "source": []
  },
  {
   "cell_type": "code",
   "execution_count": null,
   "metadata": {
    "colab": {
     "base_uri": "https://localhost:8080/",
     "height": 1134
    },
    "colab_type": "code",
    "id": "K_JKSwLHotMx",
    "outputId": "51594adf-1a5c-4d51-aad3-ed49e4c1e018"
   },
   "outputs": [],
   "source": []
  },
  {
   "cell_type": "code",
   "execution_count": null,
   "metadata": {
    "colab": {
     "base_uri": "https://localhost:8080/",
     "height": 824
    },
    "colab_type": "code",
    "id": "h8TXHLh1otJh",
    "outputId": "dce72dc9-b1d1-435a-aa09-6b83648a5727"
   },
   "outputs": [],
   "source": []
  },
  {
   "cell_type": "code",
   "execution_count": null,
   "metadata": {
    "colab": {
     "base_uri": "https://localhost:8080/",
     "height": 793
    },
    "colab_type": "code",
    "id": "fjX9_aRIotGD",
    "outputId": "a7f0ffc7-4e83-4d09-fca1-4a51302c284b"
   },
   "outputs": [],
   "source": []
  },
  {
   "cell_type": "code",
   "execution_count": null,
   "metadata": {
    "colab": {
     "base_uri": "https://localhost:8080/",
     "height": 1134
    },
    "colab_type": "code",
    "id": "uk79v15dotCn",
    "outputId": "fbb9268a-81df-4d32-b97a-832aaba86269"
   },
   "outputs": [],
   "source": []
  },
  {
   "cell_type": "code",
   "execution_count": null,
   "metadata": {
    "colab": {
     "base_uri": "https://localhost:8080/",
     "height": 1134
    },
    "colab_type": "code",
    "id": "qCdc7pGgos_T",
    "outputId": "9f19bd63-827d-40a8-f171-af9665b2df94"
   },
   "outputs": [],
   "source": []
  },
  {
   "cell_type": "code",
   "execution_count": null,
   "metadata": {
    "colab": {
     "base_uri": "https://localhost:8080/",
     "height": 1134
    },
    "colab_type": "code",
    "id": "R2Nyk4E_os77",
    "outputId": "e22a2377-88b8-4b5b-e901-ddd8b04cab75"
   },
   "outputs": [],
   "source": []
  },
  {
   "cell_type": "code",
   "execution_count": null,
   "metadata": {
    "colab": {
     "base_uri": "https://localhost:8080/",
     "height": 1134
    },
    "colab_type": "code",
    "id": "PoL2W6c7os4d",
    "outputId": "8d786d84-776b-4e77-b3a9-b783ed1799dd"
   },
   "outputs": [],
   "source": []
  },
  {
   "cell_type": "code",
   "execution_count": null,
   "metadata": {
    "colab": {
     "base_uri": "https://localhost:8080/",
     "height": 1134
    },
    "colab_type": "code",
    "id": "kIu3BKAwos0z",
    "outputId": "df603288-73fc-482a-d4ea-4cd050b93a03"
   },
   "outputs": [],
   "source": []
  },
  {
   "cell_type": "markdown",
   "metadata": {
    "colab_type": "text",
    "id": "QrhSJfAipsmh"
   },
   "source": [
    "### Obter $T$\n",
    "\n",
    "## $T$ = menor das somas de postos de mesmo sinal"
   ]
  },
  {
   "cell_type": "code",
   "execution_count": null,
   "metadata": {
    "colab": {
     "base_uri": "https://localhost:8080/",
     "height": 35
    },
    "colab_type": "code",
    "id": "TTWy-3OQpsmh",
    "outputId": "041d1650-b553-4f7c-f4ce-03284c9f445e"
   },
   "outputs": [],
   "source": []
  },
  {
   "cell_type": "markdown",
   "metadata": {
    "colab_type": "text",
    "id": "3y4Tn1y4psmi"
   },
   "source": [
    "### Obter $\\mu_T$\n",
    "\n",
    "# $$\\mu_T = \\frac{n(n+1)}{4}$$\n"
   ]
  },
  {
   "cell_type": "code",
   "execution_count": null,
   "metadata": {
    "colab": {
     "base_uri": "https://localhost:8080/",
     "height": 35
    },
    "colab_type": "code",
    "id": "0KhV5ph6psmi",
    "outputId": "d5a49227-aefe-4ab2-8f96-1575e4d00a68"
   },
   "outputs": [],
   "source": []
  },
  {
   "cell_type": "markdown",
   "metadata": {
    "colab_type": "text",
    "id": "ZqFb-m08psmj"
   },
   "source": [
    "### Obter $\\sigma_T$\n",
    "\n",
    "# $$\\sigma_T = \\sqrt{\\frac{n(n + 1)(2n + 1)}{24}}$$"
   ]
  },
  {
   "cell_type": "code",
   "execution_count": null,
   "metadata": {
    "colab": {
     "base_uri": "https://localhost:8080/",
     "height": 35
    },
    "colab_type": "code",
    "id": "c6dypGFSpsmj",
    "outputId": "a56e71d7-cec3-4529-f266-b82315fa8766"
   },
   "outputs": [],
   "source": []
  },
  {
   "cell_type": "markdown",
   "metadata": {
    "colab_type": "text",
    "id": "qEk2CUKApsmk"
   },
   "source": [
    "### Obter $Z_{teste}$\n",
    "\n",
    "# $$Z = \\frac{T - \\mu_T}{\\sigma_T}$$"
   ]
  },
  {
   "cell_type": "code",
   "execution_count": null,
   "metadata": {
    "colab": {
     "base_uri": "https://localhost:8080/",
     "height": 35
    },
    "colab_type": "code",
    "id": "KqPQgbBEpsmk",
    "outputId": "fc02c944-b662-4539-a4c4-e91f746358f3"
   },
   "outputs": [],
   "source": []
  },
  {
   "cell_type": "markdown",
   "metadata": {
    "colab_type": "text",
    "id": "iMpU26IZpsmm"
   },
   "source": [
    "![Estatística-Teste](https://caelum-online-public.s3.amazonaws.com/1229-estatistica-parte3/01/img021.png)"
   ]
  },
  {
   "cell_type": "markdown",
   "metadata": {
    "colab_type": "text",
    "id": "XFgoaLzSpsmm"
   },
   "source": [
    "---"
   ]
  },
  {
   "cell_type": "markdown",
   "metadata": {
    "colab_type": "text",
    "id": "YYGhG-lSpsmm"
   },
   "source": [
    "### **Passo 5** - Aceitação ou rejeição da hipótese nula"
   ]
  },
  {
   "cell_type": "markdown",
   "metadata": {
    "colab_type": "text",
    "id": "pDOdx-Vqpsmm"
   },
   "source": [
    "<img src='https://caelum-online-public.s3.amazonaws.com/1229-estatistica-parte3/01/img022.png' width='80%'>"
   ]
  },
  {
   "cell_type": "markdown",
   "metadata": {
    "colab_type": "text",
    "id": "ODKOD-rkpsmm"
   },
   "source": [
    "### <font color='red'>Critério do valor crítico</font>\n",
    "\n",
    "> ### Rejeitar $H_0$ se $Z \\leq -z_{\\alpha / 2}$ ou se $Z \\geq z_{\\alpha / 2}$"
   ]
  },
  {
   "cell_type": "code",
   "execution_count": null,
   "metadata": {
    "colab": {
     "base_uri": "https://localhost:8080/",
     "height": 35
    },
    "colab_type": "code",
    "id": "Gmp8dB6Apsmm",
    "outputId": "8311f709-2b10-477c-8410-93d6efbde833"
   },
   "outputs": [],
   "source": []
  },
  {
   "cell_type": "code",
   "execution_count": null,
   "metadata": {
    "colab": {
     "base_uri": "https://localhost:8080/",
     "height": 35
    },
    "colab_type": "code",
    "id": "E9jxoexkpsmn",
    "outputId": "57165249-f63d-411c-ff87-d25e1e9ee401"
   },
   "outputs": [],
   "source": []
  },
  {
   "cell_type": "markdown",
   "metadata": {
    "colab_type": "text",
    "id": "n0gtzn53psmo"
   },
   "source": [
    "### <font color='green'>Conclusão: Rejeitamos a hipótese de que não existe diferença entre os grupos, isto é, existe uma diferença entre as médias de cigarros fumados pelos pacientes antes e depois do tratamento. E como é possível verificar através das médias de cigarros fumados por dia antes (31.86) e depois (11.2) do tratamento, podemos concluir que o tratamento apresentou resultado satisfatório.</font>"
   ]
  },
  {
   "cell_type": "markdown",
   "metadata": {
    "colab_type": "text",
    "id": "8bP36mQ-psmp"
   },
   "source": [
    "### <font color='red'>Critério do valor $p$</font>\n",
    "\n",
    "> ### Rejeitar $H_0$ se o valor $p\\leq\\alpha$"
   ]
  },
  {
   "cell_type": "markdown",
   "metadata": {
    "colab_type": "text",
    "id": "H8kFeqh1psmp"
   },
   "source": [
    "https://docs.scipy.org/doc/scipy/reference/generated/scipy.stats.wilcoxon.html"
   ]
  },
  {
   "cell_type": "code",
   "execution_count": null,
   "metadata": {
    "colab": {},
    "colab_type": "code",
    "id": "bgWrxnBmpsmp"
   },
   "outputs": [],
   "source": []
  },
  {
   "cell_type": "code",
   "execution_count": null,
   "metadata": {
    "colab": {
     "base_uri": "https://localhost:8080/",
     "height": 53
    },
    "colab_type": "code",
    "id": "PsdWRoHCpsmp",
    "outputId": "c3ccd57c-5423-4d5d-b136-b84b8d627a7b"
   },
   "outputs": [],
   "source": []
  },
  {
   "cell_type": "code",
   "execution_count": null,
   "metadata": {
    "colab": {
     "base_uri": "https://localhost:8080/",
     "height": 35
    },
    "colab_type": "code",
    "id": "Qk13I21vpsmq",
    "outputId": "f111c5d0-c448-40d3-f4ee-f39e7b3a3dc3",
    "scrolled": true
   },
   "outputs": [],
   "source": []
  },
  {
   "cell_type": "markdown",
   "metadata": {
    "colab_type": "text",
    "id": "ZGNui18Xpsms"
   },
   "source": [
    "---"
   ]
  },
  {
   "cell_type": "markdown",
   "metadata": {
    "colab_type": "text",
    "id": "sIs_74V5psms"
   },
   "source": [
    "## <font color='red'>Problema</font>"
   ]
  },
  {
   "cell_type": "markdown",
   "metadata": {
    "colab_type": "text",
    "id": "Rk4GknKUpsms"
   },
   "source": [
    "Em nosso dataset temos os rendimento dos chefes de domicílio obtidos da Pesquisa Nacional por Amostra de Domicílios - PNAD no ano de 2015. Um problema bastante conhecido em nosso país diz respeito a desigualdade de renda, principalmente entre homens e mulheres.\n",
    "\n",
    "Duas amostras aleatórias, uma de **6 homens** e outra com **8 mulheres**, foram selecionadas em nosso dataset. Com o objetivo de comprovar tal desigualdade **teste a igualdade das médias** entra estas duas amostras com um nível de **significância de 5%**."
   ]
  },
  {
   "cell_type": "markdown",
   "metadata": {
    "colab_type": "text",
    "id": "iHBuQumppsmt"
   },
   "source": [
    "## <font color=green>4.3 Teste de Mann-Whitney</font>\n",
    "### Comparação de duas populações - amostras independentes\n",
    "***"
   ]
  },
  {
   "cell_type": "markdown",
   "metadata": {
    "colab_type": "text",
    "id": "bDyY8UUPpsmt"
   },
   "source": [
    "Mann-Whitney é um teste não paramétrico utilizado para verificar se duas amostras independentes foram selecionadas a partir de populações que têm a mesma média. Por ser um teste não paramétrico, Mann-Whitney torna-se uma alternativa ao teste paramétrico de comparação de médias."
   ]
  },
  {
   "cell_type": "markdown",
   "metadata": {
    "colab_type": "text",
    "id": "DjWTAICFpsmt"
   },
   "source": [
    "### Seleção das amostras"
   ]
  },
  {
   "cell_type": "code",
   "execution_count": null,
   "metadata": {
    "colab": {},
    "colab_type": "code",
    "id": "k_MCXHjIpsmt",
    "scrolled": true
   },
   "outputs": [],
   "source": []
  },
  {
   "cell_type": "code",
   "execution_count": null,
   "metadata": {
    "colab": {},
    "colab_type": "code",
    "id": "whXUtsKLpsmu",
    "scrolled": true
   },
   "outputs": [],
   "source": []
  },
  {
   "cell_type": "markdown",
   "metadata": {
    "colab_type": "text",
    "id": "HvQY_Wwjpsmx"
   },
   "source": [
    "### Dados do problema"
   ]
  },
  {
   "cell_type": "code",
   "execution_count": null,
   "metadata": {
    "colab": {
     "base_uri": "https://localhost:8080/",
     "height": 35
    },
    "colab_type": "code",
    "id": "3fz8oLQspsmx",
    "outputId": "31950658-033a-4680-f5fc-bd92ac3a6944"
   },
   "outputs": [],
   "source": []
  },
  {
   "cell_type": "code",
   "execution_count": null,
   "metadata": {
    "colab": {
     "base_uri": "https://localhost:8080/",
     "height": 35
    },
    "colab_type": "code",
    "id": "qJa9ykpJpsmz",
    "outputId": "bcf47695-839d-49f9-8f88-8acd94d0e6a4"
   },
   "outputs": [],
   "source": []
  },
  {
   "cell_type": "code",
   "execution_count": null,
   "metadata": {
    "colab": {},
    "colab_type": "code",
    "id": "9_cFuYzJpsm1"
   },
   "outputs": [],
   "source": []
  },
  {
   "cell_type": "markdown",
   "metadata": {
    "colab_type": "text",
    "id": "rnHNRcb5psm1"
   },
   "source": [
    "### **Passo 1** - formulação das hipóteses $H_0$ e $H_1$\n",
    "\n",
    "#### <font color='red'>Lembre-se, a hipótese nula sempre contém a alegação de igualdade</font>"
   ]
  },
  {
   "cell_type": "markdown",
   "metadata": {
    "colab_type": "text",
    "id": "F-q66nqDpsm2"
   },
   "source": [
    "### $\\mu_m \\Rightarrow$ Média das rendas dos chefes de domicílios do sexo feminino\n",
    "### $\\mu_h \\Rightarrow$ Média das rendas dos chefes de domicílios do sexo masculino\n",
    "\n",
    "### $\n",
    "\\begin{cases}\n",
    "H_0: \\mu_m = \\mu_h\\\\\n",
    "H_1: \\mu_m < \\mu_h\n",
    "\\end{cases}\n",
    "$"
   ]
  },
  {
   "cell_type": "markdown",
   "metadata": {
    "colab_type": "text",
    "id": "-A8XaMDnpsm3"
   },
   "source": [
    "---"
   ]
  },
  {
   "cell_type": "markdown",
   "metadata": {
    "colab_type": "text",
    "id": "VhpHwyi3psm3"
   },
   "source": [
    "### **Passo 2** - escolha da distribuição amostral adequada"
   ]
  },
  {
   "cell_type": "markdown",
   "metadata": {
    "colab_type": "text",
    "id": "hh2UhSRApsm4"
   },
   "source": [
    "Deve-se optar pela distribuição **$t$ de Student**, já que nada é mencionado sobre a distribuição da população, o desvio padrão populacional é desconhecido e o número de elementos investigados é menor que 30."
   ]
  },
  {
   "cell_type": "markdown",
   "metadata": {
    "colab_type": "text",
    "id": "PP_3zdrWpsm4"
   },
   "source": [
    "---"
   ]
  },
  {
   "cell_type": "markdown",
   "metadata": {
    "colab_type": "text",
    "id": "RALoS1ddpsm4"
   },
   "source": [
    "### **Passo 3** - fixação da significância do teste ($\\alpha$)"
   ]
  },
  {
   "cell_type": "markdown",
   "metadata": {
    "colab_type": "text",
    "id": "0Ohhw-i5psm4"
   },
   "source": [
    "### Obtendo $t_{\\alpha}$"
   ]
  },
  {
   "cell_type": "code",
   "execution_count": null,
   "metadata": {
    "colab": {
     "base_uri": "https://localhost:8080/",
     "height": 35
    },
    "colab_type": "code",
    "id": "oVNraTWypsm4",
    "outputId": "482aaf15-036b-4b5d-97eb-f3ee684dfbd9"
   },
   "outputs": [],
   "source": []
  },
  {
   "cell_type": "code",
   "execution_count": null,
   "metadata": {
    "colab": {
     "base_uri": "https://localhost:8080/",
     "height": 173
    },
    "colab_type": "code",
    "id": "px40muD3psm6",
    "outputId": "aa84c7cb-6c3a-475a-ae1f-8e772e1bcb50",
    "scrolled": true
   },
   "outputs": [],
   "source": []
  },
  {
   "cell_type": "code",
   "execution_count": null,
   "metadata": {
    "colab": {
     "base_uri": "https://localhost:8080/",
     "height": 35
    },
    "colab_type": "code",
    "id": "5iCApoGNpsm7",
    "outputId": "81069b99-1cb8-4916-c587-2ff0be1f0ffc"
   },
   "outputs": [],
   "source": []
  },
  {
   "cell_type": "markdown",
   "metadata": {
    "colab_type": "text",
    "id": "Hv5Wk8G0psm7"
   },
   "source": [
    "![Região de Aceitação](https://caelum-online-public.s3.amazonaws.com/1229-estatistica-parte3/01/img023.png)"
   ]
  },
  {
   "cell_type": "markdown",
   "metadata": {
    "colab_type": "text",
    "id": "qF2QVjmtpsm7"
   },
   "source": [
    "---"
   ]
  },
  {
   "cell_type": "markdown",
   "metadata": {
    "colab_type": "text",
    "id": "mD62Ibrupsm8"
   },
   "source": [
    "### **Passo 4** - cálculo da estatística-teste e verificação desse valor com as áreas de aceitação e rejeição do teste\n",
    "## 1. Definir os n's:\n",
    "### $n_1$ = nº de elementos do menor grupo\n",
    "### $n_2$ = nº de elementos do maior grupo\n",
    "---\n",
    "## 2. Obter a soma dos postos\n",
    "### $R_1$ = soma dos postos do grupo $n_1$\n",
    "### $R_2$ = soma dos postos do grupo $n_2$\n",
    "---\n",
    "## 3. Obter as estatísticas\n",
    "# $$u_1 = n_1 \\times n_2 + \\frac{n_1 \\times (n_1 + 1)}{2} - R_1$$\n",
    "# $$u_2 = n_1 \\times n_2 + \\frac{n_2 \\times (n_2 + 1)}{2} - R_2$$\n",
    "---\n",
    "## 4. Selecionar o menor U\n",
    "# $$u = min(u_1, u_2)$$\n",
    "---\n",
    "## 5. Obter a estatística de teste\n",
    "# $$Z = \\frac{u - \\mu{(u)}}{\\sigma{(u)}}$$\n",
    "\n",
    "Onde\n",
    "\n",
    "# $$\\mu{(u)} = \\frac{n_1 \\times n_2}{2}$$\n",
    "# $$\\sigma{(u)} = \\sqrt{\\frac{n_1 \\times n_2 \\times (n_1 + n_2 + 1)}{12}}$$"
   ]
  },
  {
   "cell_type": "markdown",
   "metadata": {
    "colab_type": "text",
    "id": "DsVNwKjOpsm8"
   },
   "source": [
    "### Obtendo os postos"
   ]
  },
  {
   "cell_type": "code",
   "execution_count": null,
   "metadata": {
    "colab": {
     "base_uri": "https://localhost:8080/",
     "height": 235
    },
    "colab_type": "code",
    "id": "mjUNCgykpsm8",
    "outputId": "5ae66e10-27e2-4e85-8176-639e722b252a"
   },
   "outputs": [],
   "source": []
  },
  {
   "cell_type": "code",
   "execution_count": null,
   "metadata": {
    "colab": {
     "base_uri": "https://localhost:8080/",
     "height": 297
    },
    "colab_type": "code",
    "id": "y68IGk4o8mgB",
    "outputId": "fb50478e-9fd0-428c-c9fc-41f535c1833a"
   },
   "outputs": [],
   "source": []
  },
  {
   "cell_type": "code",
   "execution_count": null,
   "metadata": {
    "colab": {
     "base_uri": "https://localhost:8080/",
     "height": 483
    },
    "colab_type": "code",
    "id": "HFVjaj4f8mOi",
    "outputId": "bb530bd2-103b-450b-bb6b-89e63b30600c"
   },
   "outputs": [],
   "source": []
  },
  {
   "cell_type": "code",
   "execution_count": null,
   "metadata": {
    "colab": {
     "base_uri": "https://localhost:8080/",
     "height": 483
    },
    "colab_type": "code",
    "id": "cpN2H9kFpsm-",
    "outputId": "df9d00a6-1b43-4cf2-d385-628e07257b85"
   },
   "outputs": [],
   "source": []
  },
  {
   "cell_type": "code",
   "execution_count": null,
   "metadata": {
    "colab": {
     "base_uri": "https://localhost:8080/",
     "height": 483
    },
    "colab_type": "code",
    "id": "YCT6KsRS8-by",
    "outputId": "1d8ccd68-e703-4407-d866-34a2710c9225"
   },
   "outputs": [],
   "source": []
  },
  {
   "cell_type": "code",
   "execution_count": null,
   "metadata": {
    "colab": {
     "base_uri": "https://localhost:8080/",
     "height": 390
    },
    "colab_type": "code",
    "id": "tEuMTSSU8-OE",
    "outputId": "9ea51224-027b-4965-cda7-3bd39b6fcf87"
   },
   "outputs": [],
   "source": []
  },
  {
   "cell_type": "code",
   "execution_count": null,
   "metadata": {
    "colab": {
     "base_uri": "https://localhost:8080/",
     "height": 359
    },
    "colab_type": "code",
    "id": "S9rtsrl88-LB",
    "outputId": "e290c591-eba0-4b21-a7c6-ecdde437e55b"
   },
   "outputs": [],
   "source": []
  },
  {
   "cell_type": "code",
   "execution_count": null,
   "metadata": {
    "colab": {
     "base_uri": "https://localhost:8080/",
     "height": 483
    },
    "colab_type": "code",
    "id": "w0sqa3j-8-H6",
    "outputId": "1baf2916-d014-4f4b-bea3-d339c0b0f260"
   },
   "outputs": [],
   "source": []
  },
  {
   "cell_type": "code",
   "execution_count": null,
   "metadata": {
    "colab": {
     "base_uri": "https://localhost:8080/",
     "height": 483
    },
    "colab_type": "code",
    "id": "K4Qn49E78-Ed",
    "outputId": "18af1b0d-fe62-4fe1-845a-3c9aae4088cd"
   },
   "outputs": [],
   "source": []
  },
  {
   "cell_type": "markdown",
   "metadata": {
    "colab_type": "text",
    "id": "LFcpe4l_psm-"
   },
   "source": [
    "### Obtendo $R$\n",
    "\n",
    "### $R_1$ = soma dos postos do grupo $n_1$\n",
    "### $R_2$ = soma dos postos do grupo $n_2$"
   ]
  },
  {
   "cell_type": "code",
   "execution_count": null,
   "metadata": {
    "colab": {
     "base_uri": "https://localhost:8080/",
     "height": 142
    },
    "colab_type": "code",
    "id": "Y3OnPJ7_psm_",
    "outputId": "ebe69922-0f58-4815-c278-200fcb0df5dd"
   },
   "outputs": [],
   "source": []
  },
  {
   "cell_type": "code",
   "execution_count": null,
   "metadata": {
    "colab": {
     "base_uri": "https://localhost:8080/",
     "height": 35
    },
    "colab_type": "code",
    "id": "mkbp_OgepsnA",
    "outputId": "a42040ac-fd12-49bb-8afa-95038d18d05f"
   },
   "outputs": [],
   "source": []
  },
  {
   "cell_type": "code",
   "execution_count": null,
   "metadata": {
    "colab": {
     "base_uri": "https://localhost:8080/",
     "height": 35
    },
    "colab_type": "code",
    "id": "zZuZTlp0psnB",
    "outputId": "fa8096f1-fd61-4b5d-c573-eb9978c7fce5"
   },
   "outputs": [],
   "source": []
  },
  {
   "cell_type": "markdown",
   "metadata": {
    "colab_type": "text",
    "id": "VheEyfc8psnC"
   },
   "source": [
    "### Obter $u$\n",
    "\n",
    "# $$u_1 = n_1 \\times n_2 + \\frac{n_1 \\times (n_1 + 1)}{2} - R_1$$\n",
    "# $$u_2 = n_1 \\times n_2 + \\frac{n_2 \\times (n_2 + 1)}{2} - R_2$$\n",
    "\n",
    "# $$u = min(u_1, u_2)$$\n"
   ]
  },
  {
   "cell_type": "code",
   "execution_count": null,
   "metadata": {
    "colab": {
     "base_uri": "https://localhost:8080/",
     "height": 35
    },
    "colab_type": "code",
    "id": "zUr2AlPcpsnC",
    "outputId": "544c2c51-985b-4b6b-83c8-c882b19a873b"
   },
   "outputs": [],
   "source": []
  },
  {
   "cell_type": "code",
   "execution_count": null,
   "metadata": {
    "colab": {
     "base_uri": "https://localhost:8080/",
     "height": 35
    },
    "colab_type": "code",
    "id": "rFYBYtf9psnE",
    "outputId": "bfa1bcd7-01b9-4ce4-9fb8-0ba8435414aa"
   },
   "outputs": [],
   "source": []
  },
  {
   "cell_type": "code",
   "execution_count": null,
   "metadata": {
    "colab": {
     "base_uri": "https://localhost:8080/",
     "height": 35
    },
    "colab_type": "code",
    "id": "2TodtD_jpsnF",
    "outputId": "d874ee9f-d816-4cd0-8797-b2b8a54bec86"
   },
   "outputs": [],
   "source": []
  },
  {
   "cell_type": "markdown",
   "metadata": {
    "colab_type": "text",
    "id": "v9JqAVXTpsnH"
   },
   "source": [
    "### Obter $\\mu{(u)}$\n",
    "\n",
    "# $$\\mu{(u)} = \\frac{n_1 \\times n_2}{2}$$"
   ]
  },
  {
   "cell_type": "code",
   "execution_count": null,
   "metadata": {
    "colab": {
     "base_uri": "https://localhost:8080/",
     "height": 35
    },
    "colab_type": "code",
    "id": "ANX33u8upsnH",
    "outputId": "e8148a88-a952-412f-9d08-905f4d5e1b9c"
   },
   "outputs": [],
   "source": []
  },
  {
   "cell_type": "markdown",
   "metadata": {
    "colab_type": "text",
    "id": "mAEF6gUVpsnI"
   },
   "source": [
    "### Obter $\\sigma{(u)}$\n",
    "\n",
    "# $$\\sigma{(u)} = \\sqrt{\\frac{n_1 \\times n_2 \\times (n_1 + n_2 + 1)}{12}}$$"
   ]
  },
  {
   "cell_type": "code",
   "execution_count": null,
   "metadata": {
    "colab": {
     "base_uri": "https://localhost:8080/",
     "height": 35
    },
    "colab_type": "code",
    "id": "fyoNElj2psnI",
    "outputId": "1590b044-a811-4207-efd4-bbb458c3ad23"
   },
   "outputs": [],
   "source": []
  },
  {
   "cell_type": "markdown",
   "metadata": {
    "colab_type": "text",
    "id": "T_s3WFVtpsnI"
   },
   "source": [
    "### Obter $Z$\n",
    "\n",
    "# $$Z = \\frac{u - \\mu{(u)}}{\\sigma{(u)}}$$"
   ]
  },
  {
   "cell_type": "code",
   "execution_count": null,
   "metadata": {
    "colab": {
     "base_uri": "https://localhost:8080/",
     "height": 35
    },
    "colab_type": "code",
    "id": "YwySSfs1psnJ",
    "outputId": "b4fcc6f5-21ad-40ac-dd4f-e40863bb8e50"
   },
   "outputs": [],
   "source": []
  },
  {
   "cell_type": "markdown",
   "metadata": {
    "colab_type": "text",
    "id": "ET0XFyyTpsnJ"
   },
   "source": [
    "![Estatística-Teste](https://caelum-online-public.s3.amazonaws.com/1229-estatistica-parte3/01/img024.png)"
   ]
  },
  {
   "cell_type": "markdown",
   "metadata": {
    "colab_type": "text",
    "id": "qSMrqg9lpsnJ"
   },
   "source": [
    "---"
   ]
  },
  {
   "cell_type": "markdown",
   "metadata": {
    "colab_type": "text",
    "id": "04hb7sbUpsnK"
   },
   "source": [
    "### **Passo 5** - Aceitação ou rejeição da hipótese nula"
   ]
  },
  {
   "cell_type": "markdown",
   "metadata": {
    "colab_type": "text",
    "id": "u_jtIZQYpsnK"
   },
   "source": [
    "<img src='https://caelum-online-public.s3.amazonaws.com/1229-estatistica-parte3/01/img025.png' width='80%'>"
   ]
  },
  {
   "cell_type": "markdown",
   "metadata": {
    "colab_type": "text",
    "id": "tKXPtt7ypsnK"
   },
   "source": [
    "### <font color='red'>Critério do valor crítico</font>\n",
    "\n",
    "> ### Rejeitar $H_0$ se $Z \\leq -t_{\\alpha}$"
   ]
  },
  {
   "cell_type": "code",
   "execution_count": null,
   "metadata": {
    "colab": {
     "base_uri": "https://localhost:8080/",
     "height": 35
    },
    "colab_type": "code",
    "id": "YUnoj7r5psnK",
    "outputId": "cc725f20-215c-415f-da5a-053aaeb9d0f3"
   },
   "outputs": [],
   "source": []
  },
  {
   "cell_type": "markdown",
   "metadata": {
    "colab_type": "text",
    "id": "2vh3CcxgpsnM"
   },
   "source": [
    "### <font color='green'>Conclusão: Rejeitamos a hipótese de que não existe diferença entre os grupos, isto é, concluímos que a média das rendas dos chefes de domicílios do sexo feminino é menor que a média das rendas dos chefes de domicílios do sexo masculino. Confirmando a alegação de desigualdade de renda entre os sexos.</font>"
   ]
  },
  {
   "cell_type": "markdown",
   "metadata": {
    "colab_type": "text",
    "id": "EJiw3TwCpsnM"
   },
   "source": [
    "### <font color='red'>Critério do valor $p$</font>\n",
    "\n",
    "> ### Rejeitar $H_0$ se o valor $p\\leq\\alpha$"
   ]
  },
  {
   "cell_type": "markdown",
   "metadata": {
    "colab_type": "text",
    "id": "U__FbtXEpsnM"
   },
   "source": [
    "https://docs.scipy.org/doc/scipy/reference/generated/scipy.stats.mannwhitneyu.html"
   ]
  },
  {
   "cell_type": "code",
   "execution_count": null,
   "metadata": {
    "colab": {},
    "colab_type": "code",
    "id": "b21fe4hQpsnM"
   },
   "outputs": [],
   "source": []
  },
  {
   "cell_type": "code",
   "execution_count": null,
   "metadata": {
    "colab": {
     "base_uri": "https://localhost:8080/",
     "height": 53
    },
    "colab_type": "code",
    "id": "xBG8n1qPpsnN",
    "outputId": "867a2144-53dd-42fd-cf8b-db7ee292758e"
   },
   "outputs": [],
   "source": []
  },
  {
   "cell_type": "code",
   "execution_count": null,
   "metadata": {
    "colab": {
     "base_uri": "https://localhost:8080/",
     "height": 35
    },
    "colab_type": "code",
    "id": "DIo9w6wNpsnO",
    "outputId": "4bdb7d34-4781-438d-a000-a2b4c974e441"
   },
   "outputs": [],
   "source": []
  },
  {
   "cell_type": "markdown",
   "metadata": {
    "colab_type": "text",
    "id": "aydvymEdpsnO"
   },
   "source": [
    "---"
   ]
  }
 ],
 "metadata": {
  "colab": {
   "collapsed_sections": [
    "cVgsZ_E3jQKg",
    "nk65O0lepz57"
   ],
   "name": "Curso_de_Estatística_Parte_3.ipynb",
   "provenance": [],
   "toc_visible": true,
   "version": "0.3.2"
  },
  "kernelspec": {
   "display_name": "Python 3.9.6 64-bit",
   "language": "python",
   "name": "python3"
  },
  "language_info": {
   "codemirror_mode": {
    "name": "ipython",
    "version": 3
   },
   "file_extension": ".py",
   "mimetype": "text/x-python",
   "name": "python",
   "nbconvert_exporter": "python",
   "pygments_lexer": "ipython3",
   "version": "3.9.6"
  },
  "vscode": {
   "interpreter": {
    "hash": "81794d4967e6c3204c66dcd87b604927b115b27c00565d3d43f05ba2f3a2cb0d"
   }
  }
 },
 "nbformat": 4,
 "nbformat_minor": 1
}
